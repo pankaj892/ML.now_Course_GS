{
  "nbformat": 4,
  "nbformat_minor": 0,
  "metadata": {
    "colab": {
      "name": "UniVariate Linear Regression.ipynb",
      "provenance": [],
      "collapsed_sections": [],
      "authorship_tag": "ABX9TyNV3Z7NIvgmVh1ej+gKz12Y",
      "include_colab_link": true
    },
    "kernelspec": {
      "name": "python3",
      "display_name": "Python 3"
    },
    "language_info": {
      "name": "python"
    }
  },
  "cells": [
    {
      "cell_type": "markdown",
      "metadata": {
        "id": "view-in-github",
        "colab_type": "text"
      },
      "source": [
        "<a href=\"https://colab.research.google.com/github/pankaj892/ML.now_Course_GS/blob/main/UniVariate_Linear_Regression.ipynb\" target=\"_parent\"><img src=\"https://colab.research.google.com/assets/colab-badge.svg\" alt=\"Open In Colab\"/></a>"
      ]
    },
    {
      "cell_type": "markdown",
      "metadata": {
        "id": "cpKH8WNmY941"
      },
      "source": [
        "`Univariate Linear Regression`\n",
        "\n",
        "[Link to Download the dataset](https://archive.ics.uci.edu/ml/datasets/Student+Performance)\n",
        "\n",
        "**Date Created**: June 11, 2021\n",
        "\n",
        "\n",
        "**Author**:\n",
        " Pankaj Biradar\n",
        "\n",
        "**Reach out**:\n",
        "[GitHub](https://github.com/pankaj892) | [LinkedIn](https://www.linkedin.com/in/pankaj-biradar/)\n",
        "\n"
      ]
    },
    {
      "cell_type": "markdown",
      "metadata": {
        "id": "ncpHq1l7ZZxN"
      },
      "source": [
        "##Setup"
      ]
    },
    {
      "cell_type": "code",
      "metadata": {
        "colab": {
          "base_uri": "https://localhost:8080/"
        },
        "id": "J1hUtVFQZJgu",
        "outputId": "43111932-fb76-4829-eef5-88d763323397"
      },
      "source": [
        "from google.colab import drive\n",
        "drive.mount('/content/drive')"
      ],
      "execution_count": 37,
      "outputs": [
        {
          "output_type": "stream",
          "text": [
            "Drive already mounted at /content/drive; to attempt to forcibly remount, call drive.mount(\"/content/drive\", force_remount=True).\n"
          ],
          "name": "stdout"
        }
      ]
    },
    {
      "cell_type": "code",
      "metadata": {
        "colab": {
          "base_uri": "https://localhost:8080/"
        },
        "id": "Dg4yBOddZW7C",
        "outputId": "71e0937d-887d-4626-ab49-4f61dfe7fa80"
      },
      "source": [
        "ls"
      ],
      "execution_count": 38,
      "outputs": [
        {
          "output_type": "stream",
          "text": [
            "student-mat.csv  student-por.csv  univariate_MathData_2.csv\n",
            "student-merge.R  student.txt\n"
          ],
          "name": "stdout"
        }
      ]
    },
    {
      "cell_type": "code",
      "metadata": {
        "colab": {
          "base_uri": "https://localhost:8080/"
        },
        "id": "kp1ZcQ0iZ48N",
        "outputId": "c549eb12-44e5-45c3-fab6-9bca3b03a288"
      },
      "source": [
        "cd '/content/drive/MyDrive/Student Data'"
      ],
      "execution_count": 39,
      "outputs": [
        {
          "output_type": "stream",
          "text": [
            "/content/drive/MyDrive/Student Data\n"
          ],
          "name": "stdout"
        }
      ]
    },
    {
      "cell_type": "code",
      "metadata": {
        "colab": {
          "base_uri": "https://localhost:8080/"
        },
        "id": "EDhSnqrTakgi",
        "outputId": "243aee5b-a2ab-40e1-f94a-514631d656c6"
      },
      "source": [
        "ls"
      ],
      "execution_count": 40,
      "outputs": [
        {
          "output_type": "stream",
          "text": [
            "student-mat.csv  student-por.csv  univariate_MathData_2.csv\n",
            "student-merge.R  student.txt\n"
          ],
          "name": "stdout"
        }
      ]
    },
    {
      "cell_type": "code",
      "metadata": {
        "id": "nifGk70ubElg"
      },
      "source": [
        "import os"
      ],
      "execution_count": 41,
      "outputs": []
    },
    {
      "cell_type": "code",
      "metadata": {
        "id": "JMKkujvtbH3r"
      },
      "source": [
        "import pandas as pd #working with csv or excel files\n",
        "import numpy as np #working with numbers/ arrays/ tensors\n",
        "import tensorflow as tf #framework\n",
        "from tensorflow import keras #API / library \n",
        "import os #using os commands between the python language"
      ],
      "execution_count": 42,
      "outputs": []
    },
    {
      "cell_type": "code",
      "metadata": {
        "id": "eBSmW77SbKkH"
      },
      "source": [
        "mathData = pd.read_csv('student-mat.csv', sep=';') #load the csv file as dataframe"
      ],
      "execution_count": 43,
      "outputs": []
    },
    {
      "cell_type": "code",
      "metadata": {
        "colab": {
          "base_uri": "https://localhost:8080/",
          "height": 383
        },
        "id": "1eEO_KrLbNrl",
        "outputId": "22269cb2-9c29-42b9-bc11-598184fd67da"
      },
      "source": [
        "mathData.head(10) #print the first ten rows of the dataframe"
      ],
      "execution_count": 44,
      "outputs": [
        {
          "output_type": "execute_result",
          "data": {
            "text/html": [
              "<div>\n",
              "<style scoped>\n",
              "    .dataframe tbody tr th:only-of-type {\n",
              "        vertical-align: middle;\n",
              "    }\n",
              "\n",
              "    .dataframe tbody tr th {\n",
              "        vertical-align: top;\n",
              "    }\n",
              "\n",
              "    .dataframe thead th {\n",
              "        text-align: right;\n",
              "    }\n",
              "</style>\n",
              "<table border=\"1\" class=\"dataframe\">\n",
              "  <thead>\n",
              "    <tr style=\"text-align: right;\">\n",
              "      <th></th>\n",
              "      <th>school</th>\n",
              "      <th>sex</th>\n",
              "      <th>age</th>\n",
              "      <th>address</th>\n",
              "      <th>famsize</th>\n",
              "      <th>Pstatus</th>\n",
              "      <th>Medu</th>\n",
              "      <th>Fedu</th>\n",
              "      <th>Mjob</th>\n",
              "      <th>Fjob</th>\n",
              "      <th>reason</th>\n",
              "      <th>guardian</th>\n",
              "      <th>traveltime</th>\n",
              "      <th>studytime</th>\n",
              "      <th>failures</th>\n",
              "      <th>schoolsup</th>\n",
              "      <th>famsup</th>\n",
              "      <th>paid</th>\n",
              "      <th>activities</th>\n",
              "      <th>nursery</th>\n",
              "      <th>higher</th>\n",
              "      <th>internet</th>\n",
              "      <th>romantic</th>\n",
              "      <th>famrel</th>\n",
              "      <th>freetime</th>\n",
              "      <th>goout</th>\n",
              "      <th>Dalc</th>\n",
              "      <th>Walc</th>\n",
              "      <th>health</th>\n",
              "      <th>absences</th>\n",
              "      <th>G1</th>\n",
              "      <th>G2</th>\n",
              "      <th>G3</th>\n",
              "    </tr>\n",
              "  </thead>\n",
              "  <tbody>\n",
              "    <tr>\n",
              "      <th>0</th>\n",
              "      <td>GP</td>\n",
              "      <td>F</td>\n",
              "      <td>18</td>\n",
              "      <td>U</td>\n",
              "      <td>GT3</td>\n",
              "      <td>A</td>\n",
              "      <td>4</td>\n",
              "      <td>4</td>\n",
              "      <td>at_home</td>\n",
              "      <td>teacher</td>\n",
              "      <td>course</td>\n",
              "      <td>mother</td>\n",
              "      <td>2</td>\n",
              "      <td>2</td>\n",
              "      <td>0</td>\n",
              "      <td>yes</td>\n",
              "      <td>no</td>\n",
              "      <td>no</td>\n",
              "      <td>no</td>\n",
              "      <td>yes</td>\n",
              "      <td>yes</td>\n",
              "      <td>no</td>\n",
              "      <td>no</td>\n",
              "      <td>4</td>\n",
              "      <td>3</td>\n",
              "      <td>4</td>\n",
              "      <td>1</td>\n",
              "      <td>1</td>\n",
              "      <td>3</td>\n",
              "      <td>6</td>\n",
              "      <td>5</td>\n",
              "      <td>6</td>\n",
              "      <td>6</td>\n",
              "    </tr>\n",
              "    <tr>\n",
              "      <th>1</th>\n",
              "      <td>GP</td>\n",
              "      <td>F</td>\n",
              "      <td>17</td>\n",
              "      <td>U</td>\n",
              "      <td>GT3</td>\n",
              "      <td>T</td>\n",
              "      <td>1</td>\n",
              "      <td>1</td>\n",
              "      <td>at_home</td>\n",
              "      <td>other</td>\n",
              "      <td>course</td>\n",
              "      <td>father</td>\n",
              "      <td>1</td>\n",
              "      <td>2</td>\n",
              "      <td>0</td>\n",
              "      <td>no</td>\n",
              "      <td>yes</td>\n",
              "      <td>no</td>\n",
              "      <td>no</td>\n",
              "      <td>no</td>\n",
              "      <td>yes</td>\n",
              "      <td>yes</td>\n",
              "      <td>no</td>\n",
              "      <td>5</td>\n",
              "      <td>3</td>\n",
              "      <td>3</td>\n",
              "      <td>1</td>\n",
              "      <td>1</td>\n",
              "      <td>3</td>\n",
              "      <td>4</td>\n",
              "      <td>5</td>\n",
              "      <td>5</td>\n",
              "      <td>6</td>\n",
              "    </tr>\n",
              "    <tr>\n",
              "      <th>2</th>\n",
              "      <td>GP</td>\n",
              "      <td>F</td>\n",
              "      <td>15</td>\n",
              "      <td>U</td>\n",
              "      <td>LE3</td>\n",
              "      <td>T</td>\n",
              "      <td>1</td>\n",
              "      <td>1</td>\n",
              "      <td>at_home</td>\n",
              "      <td>other</td>\n",
              "      <td>other</td>\n",
              "      <td>mother</td>\n",
              "      <td>1</td>\n",
              "      <td>2</td>\n",
              "      <td>3</td>\n",
              "      <td>yes</td>\n",
              "      <td>no</td>\n",
              "      <td>yes</td>\n",
              "      <td>no</td>\n",
              "      <td>yes</td>\n",
              "      <td>yes</td>\n",
              "      <td>yes</td>\n",
              "      <td>no</td>\n",
              "      <td>4</td>\n",
              "      <td>3</td>\n",
              "      <td>2</td>\n",
              "      <td>2</td>\n",
              "      <td>3</td>\n",
              "      <td>3</td>\n",
              "      <td>10</td>\n",
              "      <td>7</td>\n",
              "      <td>8</td>\n",
              "      <td>10</td>\n",
              "    </tr>\n",
              "    <tr>\n",
              "      <th>3</th>\n",
              "      <td>GP</td>\n",
              "      <td>F</td>\n",
              "      <td>15</td>\n",
              "      <td>U</td>\n",
              "      <td>GT3</td>\n",
              "      <td>T</td>\n",
              "      <td>4</td>\n",
              "      <td>2</td>\n",
              "      <td>health</td>\n",
              "      <td>services</td>\n",
              "      <td>home</td>\n",
              "      <td>mother</td>\n",
              "      <td>1</td>\n",
              "      <td>3</td>\n",
              "      <td>0</td>\n",
              "      <td>no</td>\n",
              "      <td>yes</td>\n",
              "      <td>yes</td>\n",
              "      <td>yes</td>\n",
              "      <td>yes</td>\n",
              "      <td>yes</td>\n",
              "      <td>yes</td>\n",
              "      <td>yes</td>\n",
              "      <td>3</td>\n",
              "      <td>2</td>\n",
              "      <td>2</td>\n",
              "      <td>1</td>\n",
              "      <td>1</td>\n",
              "      <td>5</td>\n",
              "      <td>2</td>\n",
              "      <td>15</td>\n",
              "      <td>14</td>\n",
              "      <td>15</td>\n",
              "    </tr>\n",
              "    <tr>\n",
              "      <th>4</th>\n",
              "      <td>GP</td>\n",
              "      <td>F</td>\n",
              "      <td>16</td>\n",
              "      <td>U</td>\n",
              "      <td>GT3</td>\n",
              "      <td>T</td>\n",
              "      <td>3</td>\n",
              "      <td>3</td>\n",
              "      <td>other</td>\n",
              "      <td>other</td>\n",
              "      <td>home</td>\n",
              "      <td>father</td>\n",
              "      <td>1</td>\n",
              "      <td>2</td>\n",
              "      <td>0</td>\n",
              "      <td>no</td>\n",
              "      <td>yes</td>\n",
              "      <td>yes</td>\n",
              "      <td>no</td>\n",
              "      <td>yes</td>\n",
              "      <td>yes</td>\n",
              "      <td>no</td>\n",
              "      <td>no</td>\n",
              "      <td>4</td>\n",
              "      <td>3</td>\n",
              "      <td>2</td>\n",
              "      <td>1</td>\n",
              "      <td>2</td>\n",
              "      <td>5</td>\n",
              "      <td>4</td>\n",
              "      <td>6</td>\n",
              "      <td>10</td>\n",
              "      <td>10</td>\n",
              "    </tr>\n",
              "    <tr>\n",
              "      <th>5</th>\n",
              "      <td>GP</td>\n",
              "      <td>M</td>\n",
              "      <td>16</td>\n",
              "      <td>U</td>\n",
              "      <td>LE3</td>\n",
              "      <td>T</td>\n",
              "      <td>4</td>\n",
              "      <td>3</td>\n",
              "      <td>services</td>\n",
              "      <td>other</td>\n",
              "      <td>reputation</td>\n",
              "      <td>mother</td>\n",
              "      <td>1</td>\n",
              "      <td>2</td>\n",
              "      <td>0</td>\n",
              "      <td>no</td>\n",
              "      <td>yes</td>\n",
              "      <td>yes</td>\n",
              "      <td>yes</td>\n",
              "      <td>yes</td>\n",
              "      <td>yes</td>\n",
              "      <td>yes</td>\n",
              "      <td>no</td>\n",
              "      <td>5</td>\n",
              "      <td>4</td>\n",
              "      <td>2</td>\n",
              "      <td>1</td>\n",
              "      <td>2</td>\n",
              "      <td>5</td>\n",
              "      <td>10</td>\n",
              "      <td>15</td>\n",
              "      <td>15</td>\n",
              "      <td>15</td>\n",
              "    </tr>\n",
              "    <tr>\n",
              "      <th>6</th>\n",
              "      <td>GP</td>\n",
              "      <td>M</td>\n",
              "      <td>16</td>\n",
              "      <td>U</td>\n",
              "      <td>LE3</td>\n",
              "      <td>T</td>\n",
              "      <td>2</td>\n",
              "      <td>2</td>\n",
              "      <td>other</td>\n",
              "      <td>other</td>\n",
              "      <td>home</td>\n",
              "      <td>mother</td>\n",
              "      <td>1</td>\n",
              "      <td>2</td>\n",
              "      <td>0</td>\n",
              "      <td>no</td>\n",
              "      <td>no</td>\n",
              "      <td>no</td>\n",
              "      <td>no</td>\n",
              "      <td>yes</td>\n",
              "      <td>yes</td>\n",
              "      <td>yes</td>\n",
              "      <td>no</td>\n",
              "      <td>4</td>\n",
              "      <td>4</td>\n",
              "      <td>4</td>\n",
              "      <td>1</td>\n",
              "      <td>1</td>\n",
              "      <td>3</td>\n",
              "      <td>0</td>\n",
              "      <td>12</td>\n",
              "      <td>12</td>\n",
              "      <td>11</td>\n",
              "    </tr>\n",
              "    <tr>\n",
              "      <th>7</th>\n",
              "      <td>GP</td>\n",
              "      <td>F</td>\n",
              "      <td>17</td>\n",
              "      <td>U</td>\n",
              "      <td>GT3</td>\n",
              "      <td>A</td>\n",
              "      <td>4</td>\n",
              "      <td>4</td>\n",
              "      <td>other</td>\n",
              "      <td>teacher</td>\n",
              "      <td>home</td>\n",
              "      <td>mother</td>\n",
              "      <td>2</td>\n",
              "      <td>2</td>\n",
              "      <td>0</td>\n",
              "      <td>yes</td>\n",
              "      <td>yes</td>\n",
              "      <td>no</td>\n",
              "      <td>no</td>\n",
              "      <td>yes</td>\n",
              "      <td>yes</td>\n",
              "      <td>no</td>\n",
              "      <td>no</td>\n",
              "      <td>4</td>\n",
              "      <td>1</td>\n",
              "      <td>4</td>\n",
              "      <td>1</td>\n",
              "      <td>1</td>\n",
              "      <td>1</td>\n",
              "      <td>6</td>\n",
              "      <td>6</td>\n",
              "      <td>5</td>\n",
              "      <td>6</td>\n",
              "    </tr>\n",
              "    <tr>\n",
              "      <th>8</th>\n",
              "      <td>GP</td>\n",
              "      <td>M</td>\n",
              "      <td>15</td>\n",
              "      <td>U</td>\n",
              "      <td>LE3</td>\n",
              "      <td>A</td>\n",
              "      <td>3</td>\n",
              "      <td>2</td>\n",
              "      <td>services</td>\n",
              "      <td>other</td>\n",
              "      <td>home</td>\n",
              "      <td>mother</td>\n",
              "      <td>1</td>\n",
              "      <td>2</td>\n",
              "      <td>0</td>\n",
              "      <td>no</td>\n",
              "      <td>yes</td>\n",
              "      <td>yes</td>\n",
              "      <td>no</td>\n",
              "      <td>yes</td>\n",
              "      <td>yes</td>\n",
              "      <td>yes</td>\n",
              "      <td>no</td>\n",
              "      <td>4</td>\n",
              "      <td>2</td>\n",
              "      <td>2</td>\n",
              "      <td>1</td>\n",
              "      <td>1</td>\n",
              "      <td>1</td>\n",
              "      <td>0</td>\n",
              "      <td>16</td>\n",
              "      <td>18</td>\n",
              "      <td>19</td>\n",
              "    </tr>\n",
              "    <tr>\n",
              "      <th>9</th>\n",
              "      <td>GP</td>\n",
              "      <td>M</td>\n",
              "      <td>15</td>\n",
              "      <td>U</td>\n",
              "      <td>GT3</td>\n",
              "      <td>T</td>\n",
              "      <td>3</td>\n",
              "      <td>4</td>\n",
              "      <td>other</td>\n",
              "      <td>other</td>\n",
              "      <td>home</td>\n",
              "      <td>mother</td>\n",
              "      <td>1</td>\n",
              "      <td>2</td>\n",
              "      <td>0</td>\n",
              "      <td>no</td>\n",
              "      <td>yes</td>\n",
              "      <td>yes</td>\n",
              "      <td>yes</td>\n",
              "      <td>yes</td>\n",
              "      <td>yes</td>\n",
              "      <td>yes</td>\n",
              "      <td>no</td>\n",
              "      <td>5</td>\n",
              "      <td>5</td>\n",
              "      <td>1</td>\n",
              "      <td>1</td>\n",
              "      <td>1</td>\n",
              "      <td>5</td>\n",
              "      <td>0</td>\n",
              "      <td>14</td>\n",
              "      <td>15</td>\n",
              "      <td>15</td>\n",
              "    </tr>\n",
              "  </tbody>\n",
              "</table>\n",
              "</div>"
            ],
            "text/plain": [
              "  school sex  age address famsize Pstatus  ...  Walc  health absences  G1  G2  G3\n",
              "0     GP   F   18       U     GT3       A  ...     1       3        6   5   6   6\n",
              "1     GP   F   17       U     GT3       T  ...     1       3        4   5   5   6\n",
              "2     GP   F   15       U     LE3       T  ...     3       3       10   7   8  10\n",
              "3     GP   F   15       U     GT3       T  ...     1       5        2  15  14  15\n",
              "4     GP   F   16       U     GT3       T  ...     2       5        4   6  10  10\n",
              "5     GP   M   16       U     LE3       T  ...     2       5       10  15  15  15\n",
              "6     GP   M   16       U     LE3       T  ...     1       3        0  12  12  11\n",
              "7     GP   F   17       U     GT3       A  ...     1       1        6   6   5   6\n",
              "8     GP   M   15       U     LE3       A  ...     1       1        0  16  18  19\n",
              "9     GP   M   15       U     GT3       T  ...     1       5        0  14  15  15\n",
              "\n",
              "[10 rows x 33 columns]"
            ]
          },
          "metadata": {
            "tags": []
          },
          "execution_count": 44
        }
      ]
    },
    {
      "cell_type": "markdown",
      "metadata": {
        "id": "sOU66oSQbWDg"
      },
      "source": [
        "We are just going to consider the columns `G1` and `G3` for univariate linear regression\n",
        "\n",
        "$G3_i = G1_i  \\cdot \\theta_1 + \\theta_0$"
      ]
    },
    {
      "cell_type": "code",
      "metadata": {
        "colab": {
          "base_uri": "https://localhost:8080/",
          "height": 206
        },
        "id": "MdVsakk6bnLY",
        "outputId": "2047d1bd-3b37-4206-94cf-c2765847f9d0"
      },
      "source": [
        "uniMathData = mathData[['G1', 'G3']]\n",
        "uniMathData.head(5)"
      ],
      "execution_count": 45,
      "outputs": [
        {
          "output_type": "execute_result",
          "data": {
            "text/html": [
              "<div>\n",
              "<style scoped>\n",
              "    .dataframe tbody tr th:only-of-type {\n",
              "        vertical-align: middle;\n",
              "    }\n",
              "\n",
              "    .dataframe tbody tr th {\n",
              "        vertical-align: top;\n",
              "    }\n",
              "\n",
              "    .dataframe thead th {\n",
              "        text-align: right;\n",
              "    }\n",
              "</style>\n",
              "<table border=\"1\" class=\"dataframe\">\n",
              "  <thead>\n",
              "    <tr style=\"text-align: right;\">\n",
              "      <th></th>\n",
              "      <th>G1</th>\n",
              "      <th>G3</th>\n",
              "    </tr>\n",
              "  </thead>\n",
              "  <tbody>\n",
              "    <tr>\n",
              "      <th>0</th>\n",
              "      <td>5</td>\n",
              "      <td>6</td>\n",
              "    </tr>\n",
              "    <tr>\n",
              "      <th>1</th>\n",
              "      <td>5</td>\n",
              "      <td>6</td>\n",
              "    </tr>\n",
              "    <tr>\n",
              "      <th>2</th>\n",
              "      <td>7</td>\n",
              "      <td>10</td>\n",
              "    </tr>\n",
              "    <tr>\n",
              "      <th>3</th>\n",
              "      <td>15</td>\n",
              "      <td>15</td>\n",
              "    </tr>\n",
              "    <tr>\n",
              "      <th>4</th>\n",
              "      <td>6</td>\n",
              "      <td>10</td>\n",
              "    </tr>\n",
              "  </tbody>\n",
              "</table>\n",
              "</div>"
            ],
            "text/plain": [
              "   G1  G3\n",
              "0   5   6\n",
              "1   5   6\n",
              "2   7  10\n",
              "3  15  15\n",
              "4   6  10"
            ]
          },
          "metadata": {
            "tags": []
          },
          "execution_count": 45
        }
      ]
    },
    {
      "cell_type": "code",
      "metadata": {
        "id": "1wrEHl8PbW6b"
      },
      "source": [
        "uniMathData.to_csv('univariate_MathData_2.csv')"
      ],
      "execution_count": 46,
      "outputs": []
    },
    {
      "cell_type": "code",
      "metadata": {
        "colab": {
          "base_uri": "https://localhost:8080/"
        },
        "id": "LQQdRFLFbafa",
        "outputId": "9c555c7e-c611-492b-daf9-310069b48ab1"
      },
      "source": [
        "ls"
      ],
      "execution_count": 47,
      "outputs": [
        {
          "output_type": "stream",
          "text": [
            "student-mat.csv  student-por.csv  univariate_MathData_2.csv\n",
            "student-merge.R  student.txt\n"
          ],
          "name": "stdout"
        }
      ]
    },
    {
      "cell_type": "code",
      "metadata": {
        "colab": {
          "base_uri": "https://localhost:8080/",
          "height": 153
        },
        "id": "Wo-yTsTCbdmT",
        "outputId": "b5e9d634-9c3f-4275-dae0-e8dc868727cc"
      },
      "source": [
        "import seaborn as sns\n",
        "sns.palplot(sns.color_palette('PuOr')) #Purple to Orange colors\n",
        "pal = sns.color_palette('PuOr', 6) #print 6 color shades from Purple to Orange\n",
        "pal.as_hex() #set hex code values for colors\n",
        "\n",
        "import matplotlib.pyplot as plt\n",
        "plt.style.use(['seaborn'])\n",
        "sns_colors = ['#c6690c', '#664697'] #orange Purple hex codes\n",
        "sns.set_palette(sns_colors) #set the palette as sns_colors \n",
        "sns.palplot(sns.color_palette(sns_colors)) #plot the color codes"
      ],
      "execution_count": 48,
      "outputs": [
        {
          "output_type": "display_data",
          "data": {
            "image/png": "[encoded data removed]",
            "text/plain": [
              "<Figure size 432x72 with 1 Axes>"
            ]
          },
          "metadata": {
            "tags": []
          }
        },
        {
          "output_type": "display_data",
          "data": {
            "image/png": "[encoded data removed]",
            "text/plain": [
              "<Figure size 144x72 with 1 Axes>"
            ]
          },
          "metadata": {
            "tags": []
          }
        }
      ]
    },
    {
      "cell_type": "code",
      "metadata": {
        "colab": {
          "base_uri": "https://localhost:8080/"
        },
        "id": "GOBEBCGjb2pn",
        "outputId": "8ba2fd7e-1034-4e94-bdc7-4cb944fea73d"
      },
      "source": [
        "uniMathData.columns #columns in the dataframe"
      ],
      "execution_count": 49,
      "outputs": [
        {
          "output_type": "execute_result",
          "data": {
            "text/plain": [
              "Index(['G1', 'G3'], dtype='object')"
            ]
          },
          "metadata": {
            "tags": []
          },
          "execution_count": 49
        }
      ]
    },
    {
      "cell_type": "code",
      "metadata": {
        "colab": {
          "base_uri": "https://localhost:8080/",
          "height": 392
        },
        "id": "ipixBIKwb5ZF",
        "outputId": "ad86eee8-5760-49f6-f501-39b9b45ba504"
      },
      "source": [
        "#pairplot for all the values\n",
        "\n",
        "sns.pairplot(uniMathData,\n",
        "             x_vars = ['G1', 'G3'],\n",
        "             y_vars =  ['G1', 'G3'],\n",
        "       diag_kind='kde'\n",
        "             )"
      ],
      "execution_count": 50,
      "outputs": [
        {
          "output_type": "execute_result",
          "data": {
            "text/plain": [
              "<seaborn.axisgrid.PairGrid at 0x7f3f5fa692d0>"
            ]
          },
          "metadata": {
            "tags": []
          },
          "execution_count": 50
        },
        {
          "output_type": "display_data",
          "data": {
            "image/png": "[encoded data removed]",
            "text/plain": [
              "<Figure size 360x360 with 6 Axes>"
            ]
          },
          "metadata": {
            "tags": []
          }
        }
      ]
    },
    {
      "cell_type": "code",
      "metadata": {
        "colab": {
          "base_uri": "https://localhost:8080/"
        },
        "id": "YB_2c818b7mR",
        "outputId": "8c758fcf-0ed1-40e6-bfb4-fc05b847cac1"
      },
      "source": [
        "#80-20 train-test percent split\n",
        "\n",
        "trainDataset = uniMathData.sample(frac=0.8, random_state=0) \n",
        "testDataset = uniMathData.drop(trainDataset.index)\n",
        "\n",
        "print(trainDataset.head())\n",
        "print(testDataset.head())"
      ],
      "execution_count": 51,
      "outputs": [
        {
          "output_type": "stream",
          "text": [
            "     G1  G3\n",
            "329  14  14\n",
            "318  11  10\n",
            "317   9   9\n",
            "65   16  15\n",
            "59   15  16\n",
            "    G1  G3\n",
            "9   14  15\n",
            "25   6   8\n",
            "28  11  11\n",
            "31  17  17\n",
            "32  17  16\n"
          ],
          "name": "stdout"
        }
      ]
    },
    {
      "cell_type": "code",
      "metadata": {
        "colab": {
          "base_uri": "https://localhost:8080/"
        },
        "id": "9GcuvflTcDFP",
        "outputId": "2a79c355-f344-46ad-d29f-f1fa245d8d0a"
      },
      "source": [
        "print(trainDataset.shape)\n",
        "print(testDataset.shape)"
      ],
      "execution_count": 52,
      "outputs": [
        {
          "output_type": "stream",
          "text": [
            "(316, 2)\n",
            "(79, 2)\n"
          ],
          "name": "stdout"
        }
      ]
    },
    {
      "cell_type": "code",
      "metadata": {
        "colab": {
          "base_uri": "https://localhost:8080/"
        },
        "id": "g7piylUdcGKO",
        "outputId": "850b5977-4526-44bd-e704-e89a9d424540"
      },
      "source": [
        "#copy the trainDataset dataframe for getting the features\n",
        "\n",
        "trainFeatures = trainDataset.copy()\n",
        "testFeatures = testDataset.copy()\n",
        "\n",
        "print(trainFeatures.head())\n",
        "print(testFeatures.head())"
      ],
      "execution_count": 53,
      "outputs": [
        {
          "output_type": "stream",
          "text": [
            "     G1  G3\n",
            "329  14  14\n",
            "318  11  10\n",
            "317   9   9\n",
            "65   16  15\n",
            "59   15  16\n",
            "    G1  G3\n",
            "9   14  15\n",
            "25   6   8\n",
            "28  11  11\n",
            "31  17  17\n",
            "32  17  16\n"
          ],
          "name": "stdout"
        }
      ]
    },
    {
      "cell_type": "code",
      "metadata": {
        "colab": {
          "base_uri": "https://localhost:8080/"
        },
        "id": "4gShfpBgcKPV",
        "outputId": "ace54be6-9ea6-42f9-9d83-03219b056982"
      },
      "source": [
        "#removing the G3 column and saving it into the labels variable\n",
        "\n",
        "trainLabels = trainFeatures.pop('G3')\n",
        "testLabels = testFeatures.pop('G3')\n",
        "\n",
        "print(trainLabels.head())\n",
        "print(testLabels.head())"
      ],
      "execution_count": 54,
      "outputs": [
        {
          "output_type": "stream",
          "text": [
            "329    14\n",
            "318    10\n",
            "317     9\n",
            "65     15\n",
            "59     16\n",
            "Name: G3, dtype: int64\n",
            "9     15\n",
            "25     8\n",
            "28    11\n",
            "31    17\n",
            "32    16\n",
            "Name: G3, dtype: int64\n"
          ],
          "name": "stdout"
        }
      ]
    },
    {
      "cell_type": "code",
      "metadata": {
        "colab": {
          "base_uri": "https://localhost:8080/"
        },
        "id": "YdIee3_tcSPv",
        "outputId": "a3a6ee5c-477f-46e7-e187-c7ed14ed6d99"
      },
      "source": [
        "print(trainFeatures.head())\n",
        "print(testFeatures.head())"
      ],
      "execution_count": 55,
      "outputs": [
        {
          "output_type": "stream",
          "text": [
            "     G1\n",
            "329  14\n",
            "318  11\n",
            "317   9\n",
            "65   16\n",
            "59   15\n",
            "    G1\n",
            "9   14\n",
            "25   6\n",
            "28  11\n",
            "31  17\n",
            "32  17\n"
          ],
          "name": "stdout"
        }
      ]
    },
    {
      "cell_type": "code",
      "metadata": {
        "id": "zil1TRQfcgyH"
      },
      "source": [
        "# univariate -> num(features) = 1\n",
        "# multvariate -> num(features) > 1 = 11\n",
        "\n",
        "\n",
        "model = tf.keras.Sequential([\n",
        "                             tf.keras.layers.Dense(1)\n",
        "\n",
        "])"
      ],
      "execution_count": 56,
      "outputs": []
    },
    {
      "cell_type": "code",
      "metadata": {
        "id": "z2aRR9fzclu5"
      },
      "source": [
        "model.compile(\n",
        "    loss = 'mean_absolute_error', #minimizing the MAE loss\n",
        "    optimizer = tf.keras.optimizers.Adam(0.001), #learning rate specified as 0.001\n",
        "    # optimizer = 'adam', #takes the default learning rate\n",
        "    metrics = ['mae', 'mse'] #meanSquare and meanAbsolute error metrics\n",
        ")"
      ],
      "execution_count": 57,
      "outputs": []
    },
    {
      "cell_type": "code",
      "metadata": {
        "colab": {
          "base_uri": "https://localhost:8080/"
        },
        "id": "wdloPeL0coaw",
        "outputId": "7ded21e3-8224-4e2a-db0b-9535e6c3e09f"
      },
      "source": [
        "numEpochs = 300\n",
        "history = model.fit(x = trainFeatures, y = trainLabels, validation_data = (testFeatures, testLabels), epochs = numEpochs)"
      ],
      "execution_count": 58,
      "outputs": [
        {
          "output_type": "stream",
          "text": [
            "Epoch 1/300\n",
            "10/10 [==============================] - 0s 14ms/step - loss: 3.9538 - mae: 3.9538 - mse: 23.3073 - val_loss: 4.1858 - val_mae: 4.1858 - val_mse: 23.0335\n",
            "Epoch 2/300\n",
            "10/10 [==============================] - 0s 3ms/step - loss: 3.8483 - mae: 3.8483 - mse: 22.3769 - val_loss: 4.0668 - val_mae: 4.0668 - val_mse: 21.9752\n",
            "Epoch 3/300\n",
            "10/10 [==============================] - 0s 3ms/step - loss: 3.7440 - mae: 3.7440 - mse: 21.4835 - val_loss: 3.9491 - val_mae: 3.9491 - val_mse: 20.9598\n",
            "Epoch 4/300\n",
            "10/10 [==============================] - 0s 4ms/step - loss: 3.6391 - mae: 3.6391 - mse: 20.6032 - val_loss: 3.8350 - val_mae: 3.8350 - val_mse: 19.9920\n",
            "Epoch 5/300\n",
            "10/10 [==============================] - 0s 4ms/step - loss: 3.5370 - mae: 3.5370 - mse: 19.7615 - val_loss: 3.7206 - val_mae: 3.7206 - val_mse: 19.0537\n",
            "Epoch 6/300\n",
            "10/10 [==============================] - 0s 3ms/step - loss: 3.4373 - mae: 3.4373 - mse: 18.9535 - val_loss: 3.6067 - val_mae: 3.6067 - val_mse: 18.1514\n",
            "Epoch 7/300\n",
            "10/10 [==============================] - 0s 3ms/step - loss: 3.3394 - mae: 3.3394 - mse: 18.1971 - val_loss: 3.4989 - val_mae: 3.4989 - val_mse: 17.3030\n",
            "Epoch 8/300\n",
            "10/10 [==============================] - 0s 3ms/step - loss: 3.2510 - mae: 3.2510 - mse: 17.4869 - val_loss: 3.3960 - val_mae: 3.3960 - val_mse: 16.5064\n",
            "Epoch 9/300\n",
            "10/10 [==============================] - 0s 3ms/step - loss: 3.1644 - mae: 3.1644 - mse: 16.7885 - val_loss: 3.2935 - val_mae: 3.2935 - val_mse: 15.7408\n",
            "Epoch 10/300\n",
            "10/10 [==============================] - 0s 3ms/step - loss: 3.0795 - mae: 3.0795 - mse: 16.1619 - val_loss: 3.1915 - val_mae: 3.1915 - val_mse: 15.0079\n",
            "Epoch 11/300\n",
            "10/10 [==============================] - 0s 3ms/step - loss: 2.9963 - mae: 2.9963 - mse: 15.5416 - val_loss: 3.0898 - val_mae: 3.0898 - val_mse: 14.3046\n",
            "Epoch 12/300\n",
            "10/10 [==============================] - 0s 3ms/step - loss: 2.9139 - mae: 2.9139 - mse: 14.9351 - val_loss: 2.9894 - val_mae: 2.9894 - val_mse: 13.6384\n",
            "Epoch 13/300\n",
            "10/10 [==============================] - 0s 4ms/step - loss: 2.8367 - mae: 2.8367 - mse: 14.3767 - val_loss: 2.8899 - val_mae: 2.8899 - val_mse: 13.0050\n",
            "Epoch 14/300\n",
            "10/10 [==============================] - 0s 4ms/step - loss: 2.7594 - mae: 2.7594 - mse: 13.8465 - val_loss: 2.7924 - val_mae: 2.7924 - val_mse: 12.4097\n",
            "Epoch 15/300\n",
            "10/10 [==============================] - 0s 3ms/step - loss: 2.6869 - mae: 2.6869 - mse: 13.3327 - val_loss: 2.6974 - val_mae: 2.6974 - val_mse: 11.8554\n",
            "Epoch 16/300\n",
            "10/10 [==============================] - 0s 3ms/step - loss: 2.6165 - mae: 2.6165 - mse: 12.8700 - val_loss: 2.6074 - val_mae: 2.6074 - val_mse: 11.3372\n",
            "Epoch 17/300\n",
            "10/10 [==============================] - 0s 3ms/step - loss: 2.5510 - mae: 2.5510 - mse: 12.4345 - val_loss: 2.5198 - val_mae: 2.5198 - val_mse: 10.8328\n",
            "Epoch 18/300\n",
            "10/10 [==============================] - 0s 3ms/step - loss: 2.4879 - mae: 2.4879 - mse: 12.0061 - val_loss: 2.4394 - val_mae: 2.4394 - val_mse: 10.3636\n",
            "Epoch 19/300\n",
            "10/10 [==============================] - 0s 3ms/step - loss: 2.4292 - mae: 2.4292 - mse: 11.6349 - val_loss: 2.3618 - val_mae: 2.3618 - val_mse: 9.9334\n",
            "Epoch 20/300\n",
            "10/10 [==============================] - 0s 3ms/step - loss: 2.3733 - mae: 2.3733 - mse: 11.2727 - val_loss: 2.2898 - val_mae: 2.2898 - val_mse: 9.5525\n",
            "Epoch 21/300\n",
            "10/10 [==============================] - 0s 3ms/step - loss: 2.3234 - mae: 2.3234 - mse: 10.9539 - val_loss: 2.2215 - val_mae: 2.2215 - val_mse: 9.1905\n",
            "Epoch 22/300\n",
            "10/10 [==============================] - 0s 4ms/step - loss: 2.2787 - mae: 2.2787 - mse: 10.6740 - val_loss: 2.1591 - val_mae: 2.1591 - val_mse: 8.8509\n",
            "Epoch 23/300\n",
            "10/10 [==============================] - 0s 3ms/step - loss: 2.2345 - mae: 2.2345 - mse: 10.3959 - val_loss: 2.1021 - val_mae: 2.1021 - val_mse: 8.5458\n",
            "Epoch 24/300\n",
            "10/10 [==============================] - 0s 3ms/step - loss: 2.1946 - mae: 2.1946 - mse: 10.1377 - val_loss: 2.0500 - val_mae: 2.0500 - val_mse: 8.2736\n",
            "Epoch 25/300\n",
            "10/10 [==============================] - 0s 4ms/step - loss: 2.1587 - mae: 2.1587 - mse: 9.9133 - val_loss: 1.9969 - val_mae: 1.9969 - val_mse: 8.0111\n",
            "Epoch 26/300\n",
            "10/10 [==============================] - 0s 4ms/step - loss: 2.1209 - mae: 2.1209 - mse: 9.7060 - val_loss: 1.9505 - val_mae: 1.9505 - val_mse: 7.7785\n",
            "Epoch 27/300\n",
            "10/10 [==============================] - 0s 4ms/step - loss: 2.0892 - mae: 2.0892 - mse: 9.5130 - val_loss: 1.9061 - val_mae: 1.9061 - val_mse: 7.5579\n",
            "Epoch 28/300\n",
            "10/10 [==============================] - 0s 4ms/step - loss: 2.0597 - mae: 2.0597 - mse: 9.3406 - val_loss: 1.8695 - val_mae: 1.8695 - val_mse: 7.3626\n",
            "Epoch 29/300\n",
            "10/10 [==============================] - 0s 3ms/step - loss: 2.0322 - mae: 2.0322 - mse: 9.1864 - val_loss: 1.8395 - val_mae: 1.8395 - val_mse: 7.1926\n",
            "Epoch 30/300\n",
            "10/10 [==============================] - 0s 4ms/step - loss: 2.0091 - mae: 2.0091 - mse: 9.0500 - val_loss: 1.8120 - val_mae: 1.8120 - val_mse: 7.0326\n",
            "Epoch 31/300\n",
            "10/10 [==============================] - 0s 3ms/step - loss: 1.9886 - mae: 1.9886 - mse: 8.9303 - val_loss: 1.7867 - val_mae: 1.7867 - val_mse: 6.8927\n",
            "Epoch 32/300\n",
            "10/10 [==============================] - 0s 4ms/step - loss: 1.9731 - mae: 1.9731 - mse: 8.8175 - val_loss: 1.7637 - val_mae: 1.7637 - val_mse: 6.7642\n",
            "Epoch 33/300\n",
            "10/10 [==============================] - 0s 5ms/step - loss: 1.9560 - mae: 1.9560 - mse: 8.7253 - val_loss: 1.7441 - val_mae: 1.7441 - val_mse: 6.6578\n",
            "Epoch 34/300\n",
            "10/10 [==============================] - 0s 3ms/step - loss: 1.9413 - mae: 1.9413 - mse: 8.6450 - val_loss: 1.7245 - val_mae: 1.7245 - val_mse: 6.5577\n",
            "Epoch 35/300\n",
            "10/10 [==============================] - 0s 6ms/step - loss: 1.9260 - mae: 1.9260 - mse: 8.5642 - val_loss: 1.7050 - val_mae: 1.7050 - val_mse: 6.4651\n",
            "Epoch 36/300\n",
            "10/10 [==============================] - 0s 3ms/step - loss: 1.9111 - mae: 1.9111 - mse: 8.4935 - val_loss: 1.6854 - val_mae: 1.6854 - val_mse: 6.3780\n",
            "Epoch 37/300\n",
            "10/10 [==============================] - 0s 3ms/step - loss: 1.8964 - mae: 1.8964 - mse: 8.4256 - val_loss: 1.6666 - val_mae: 1.6666 - val_mse: 6.2982\n",
            "Epoch 38/300\n",
            "10/10 [==============================] - 0s 3ms/step - loss: 1.8815 - mae: 1.8815 - mse: 8.3624 - val_loss: 1.6502 - val_mae: 1.6502 - val_mse: 6.2316\n",
            "Epoch 39/300\n",
            "10/10 [==============================] - 0s 3ms/step - loss: 1.8696 - mae: 1.8696 - mse: 8.3165 - val_loss: 1.6345 - val_mae: 1.6345 - val_mse: 6.1678\n",
            "Epoch 40/300\n",
            "10/10 [==============================] - 0s 4ms/step - loss: 1.8596 - mae: 1.8596 - mse: 8.2723 - val_loss: 1.6215 - val_mae: 1.6215 - val_mse: 6.1140\n",
            "Epoch 41/300\n",
            "10/10 [==============================] - 0s 4ms/step - loss: 1.8536 - mae: 1.8536 - mse: 8.2350 - val_loss: 1.6143 - val_mae: 1.6143 - val_mse: 6.0722\n",
            "Epoch 42/300\n",
            "10/10 [==============================] - 0s 4ms/step - loss: 1.8498 - mae: 1.8498 - mse: 8.2138 - val_loss: 1.6121 - val_mae: 1.6121 - val_mse: 6.0554\n",
            "Epoch 43/300\n",
            "10/10 [==============================] - 0s 4ms/step - loss: 1.8497 - mae: 1.8497 - mse: 8.2025 - val_loss: 1.6108 - val_mae: 1.6108 - val_mse: 6.0443\n",
            "Epoch 44/300\n",
            "10/10 [==============================] - 0s 5ms/step - loss: 1.8498 - mae: 1.8498 - mse: 8.1963 - val_loss: 1.6102 - val_mae: 1.6102 - val_mse: 6.0385\n",
            "Epoch 45/300\n",
            "10/10 [==============================] - 0s 3ms/step - loss: 1.8496 - mae: 1.8496 - mse: 8.1966 - val_loss: 1.6104 - val_mae: 1.6104 - val_mse: 6.0422\n",
            "Epoch 46/300\n",
            "10/10 [==============================] - 0s 3ms/step - loss: 1.8495 - mae: 1.8495 - mse: 8.1995 - val_loss: 1.6107 - val_mae: 1.6107 - val_mse: 6.0458\n",
            "Epoch 47/300\n",
            "10/10 [==============================] - 0s 4ms/step - loss: 1.8494 - mae: 1.8494 - mse: 8.2003 - val_loss: 1.6105 - val_mae: 1.6105 - val_mse: 6.0452\n",
            "Epoch 48/300\n",
            "10/10 [==============================] - 0s 4ms/step - loss: 1.8494 - mae: 1.8494 - mse: 8.1999 - val_loss: 1.6103 - val_mae: 1.6103 - val_mse: 6.0434\n",
            "Epoch 49/300\n",
            "10/10 [==============================] - 0s 4ms/step - loss: 1.8493 - mae: 1.8493 - mse: 8.2005 - val_loss: 1.6104 - val_mae: 1.6104 - val_mse: 6.0459\n",
            "Epoch 50/300\n",
            "10/10 [==============================] - 0s 4ms/step - loss: 1.8492 - mae: 1.8492 - mse: 8.2009 - val_loss: 1.6102 - val_mae: 1.6102 - val_mse: 6.0456\n",
            "Epoch 51/300\n",
            "10/10 [==============================] - 0s 4ms/step - loss: 1.8492 - mae: 1.8492 - mse: 8.1992 - val_loss: 1.6100 - val_mae: 1.6100 - val_mse: 6.0434\n",
            "Epoch 52/300\n",
            "10/10 [==============================] - 0s 4ms/step - loss: 1.8491 - mae: 1.8491 - mse: 8.2001 - val_loss: 1.6102 - val_mae: 1.6102 - val_mse: 6.0469\n",
            "Epoch 53/300\n",
            "10/10 [==============================] - 0s 6ms/step - loss: 1.8491 - mae: 1.8491 - mse: 8.2027 - val_loss: 1.6101 - val_mae: 1.6101 - val_mse: 6.0471\n",
            "Epoch 54/300\n",
            "10/10 [==============================] - 0s 4ms/step - loss: 1.8490 - mae: 1.8490 - mse: 8.2026 - val_loss: 1.6103 - val_mae: 1.6103 - val_mse: 6.0505\n",
            "Epoch 55/300\n",
            "10/10 [==============================] - 0s 4ms/step - loss: 1.8489 - mae: 1.8489 - mse: 8.2022 - val_loss: 1.6098 - val_mae: 1.6098 - val_mse: 6.0465\n",
            "Epoch 56/300\n",
            "10/10 [==============================] - 0s 6ms/step - loss: 1.8488 - mae: 1.8488 - mse: 8.2014 - val_loss: 1.6098 - val_mae: 1.6098 - val_mse: 6.0482\n",
            "Epoch 57/300\n",
            "10/10 [==============================] - 0s 3ms/step - loss: 1.8487 - mae: 1.8487 - mse: 8.2034 - val_loss: 1.6102 - val_mae: 1.6102 - val_mse: 6.0523\n",
            "Epoch 58/300\n",
            "10/10 [==============================] - 0s 3ms/step - loss: 1.8488 - mae: 1.8488 - mse: 8.2044 - val_loss: 1.6096 - val_mae: 1.6096 - val_mse: 6.0480\n",
            "Epoch 59/300\n",
            "10/10 [==============================] - 0s 3ms/step - loss: 1.8486 - mae: 1.8486 - mse: 8.2040 - val_loss: 1.6097 - val_mae: 1.6097 - val_mse: 6.0499\n",
            "Epoch 60/300\n",
            "10/10 [==============================] - 0s 3ms/step - loss: 1.8485 - mae: 1.8485 - mse: 8.2043 - val_loss: 1.6095 - val_mae: 1.6095 - val_mse: 6.0496\n",
            "Epoch 61/300\n",
            "10/10 [==============================] - 0s 3ms/step - loss: 1.8485 - mae: 1.8485 - mse: 8.2025 - val_loss: 1.6093 - val_mae: 1.6093 - val_mse: 6.0482\n",
            "Epoch 62/300\n",
            "10/10 [==============================] - 0s 5ms/step - loss: 1.8485 - mae: 1.8485 - mse: 8.2050 - val_loss: 1.6098 - val_mae: 1.6098 - val_mse: 6.0542\n",
            "Epoch 63/300\n",
            "10/10 [==============================] - 0s 4ms/step - loss: 1.8482 - mae: 1.8482 - mse: 8.2056 - val_loss: 1.6093 - val_mae: 1.6093 - val_mse: 6.0514\n",
            "Epoch 64/300\n",
            "10/10 [==============================] - 0s 4ms/step - loss: 1.8483 - mae: 1.8483 - mse: 8.2050 - val_loss: 1.6096 - val_mae: 1.6096 - val_mse: 6.0551\n",
            "Epoch 65/300\n",
            "10/10 [==============================] - 0s 4ms/step - loss: 1.8481 - mae: 1.8481 - mse: 8.2071 - val_loss: 1.6093 - val_mae: 1.6093 - val_mse: 6.0534\n",
            "Epoch 66/300\n",
            "10/10 [==============================] - 0s 5ms/step - loss: 1.8480 - mae: 1.8480 - mse: 8.2059 - val_loss: 1.6090 - val_mae: 1.6090 - val_mse: 6.0521\n",
            "Epoch 67/300\n",
            "10/10 [==============================] - 0s 4ms/step - loss: 1.8480 - mae: 1.8480 - mse: 8.2060 - val_loss: 1.6089 - val_mae: 1.6089 - val_mse: 6.0516\n",
            "Epoch 68/300\n",
            "10/10 [==============================] - 0s 3ms/step - loss: 1.8479 - mae: 1.8479 - mse: 8.2044 - val_loss: 1.6087 - val_mae: 1.6087 - val_mse: 6.0511\n",
            "Epoch 69/300\n",
            "10/10 [==============================] - 0s 4ms/step - loss: 1.8477 - mae: 1.8477 - mse: 8.2072 - val_loss: 1.6092 - val_mae: 1.6092 - val_mse: 6.0575\n",
            "Epoch 70/300\n",
            "10/10 [==============================] - 0s 4ms/step - loss: 1.8478 - mae: 1.8478 - mse: 8.2087 - val_loss: 1.6089 - val_mae: 1.6089 - val_mse: 6.0562\n",
            "Epoch 71/300\n",
            "10/10 [==============================] - 0s 4ms/step - loss: 1.8476 - mae: 1.8476 - mse: 8.2084 - val_loss: 1.6088 - val_mae: 1.6088 - val_mse: 6.0563\n",
            "Epoch 72/300\n",
            "10/10 [==============================] - 0s 4ms/step - loss: 1.8476 - mae: 1.8476 - mse: 8.2072 - val_loss: 1.6083 - val_mae: 1.6083 - val_mse: 6.0514\n",
            "Epoch 73/300\n",
            "10/10 [==============================] - 0s 4ms/step - loss: 1.8474 - mae: 1.8474 - mse: 8.2062 - val_loss: 1.6086 - val_mae: 1.6086 - val_mse: 6.0571\n",
            "Epoch 74/300\n",
            "10/10 [==============================] - 0s 3ms/step - loss: 1.8473 - mae: 1.8473 - mse: 8.2088 - val_loss: 1.6085 - val_mae: 1.6085 - val_mse: 6.0571\n",
            "Epoch 75/300\n",
            "10/10 [==============================] - 0s 4ms/step - loss: 1.8472 - mae: 1.8472 - mse: 8.2090 - val_loss: 1.6084 - val_mae: 1.6084 - val_mse: 6.0574\n",
            "Epoch 76/300\n",
            "10/10 [==============================] - 0s 4ms/step - loss: 1.8476 - mae: 1.8476 - mse: 8.2138 - val_loss: 1.6087 - val_mae: 1.6087 - val_mse: 6.0618\n",
            "Epoch 77/300\n",
            "10/10 [==============================] - 0s 3ms/step - loss: 1.8470 - mae: 1.8470 - mse: 8.2112 - val_loss: 1.6082 - val_mae: 1.6082 - val_mse: 6.0586\n",
            "Epoch 78/300\n",
            "10/10 [==============================] - 0s 3ms/step - loss: 1.8471 - mae: 1.8471 - mse: 8.2082 - val_loss: 1.6076 - val_mae: 1.6076 - val_mse: 6.0526\n",
            "Epoch 79/300\n",
            "10/10 [==============================] - 0s 4ms/step - loss: 1.8473 - mae: 1.8473 - mse: 8.2098 - val_loss: 1.6082 - val_mae: 1.6082 - val_mse: 6.0608\n",
            "Epoch 80/300\n",
            "10/10 [==============================] - 0s 4ms/step - loss: 1.8467 - mae: 1.8467 - mse: 8.2115 - val_loss: 1.6078 - val_mae: 1.6078 - val_mse: 6.0585\n",
            "Epoch 81/300\n",
            "10/10 [==============================] - 0s 4ms/step - loss: 1.8467 - mae: 1.8467 - mse: 8.2101 - val_loss: 1.6078 - val_mae: 1.6078 - val_mse: 6.0593\n",
            "Epoch 82/300\n",
            "10/10 [==============================] - 0s 4ms/step - loss: 1.8469 - mae: 1.8469 - mse: 8.2159 - val_loss: 1.6085 - val_mae: 1.6085 - val_mse: 6.0676\n",
            "Epoch 83/300\n",
            "10/10 [==============================] - 0s 4ms/step - loss: 1.8467 - mae: 1.8467 - mse: 8.2178 - val_loss: 1.6084 - val_mae: 1.6084 - val_mse: 6.0687\n",
            "Epoch 84/300\n",
            "10/10 [==============================] - 0s 4ms/step - loss: 1.8464 - mae: 1.8464 - mse: 8.2156 - val_loss: 1.6076 - val_mae: 1.6076 - val_mse: 6.0626\n",
            "Epoch 85/300\n",
            "10/10 [==============================] - 0s 4ms/step - loss: 1.8463 - mae: 1.8463 - mse: 8.2126 - val_loss: 1.6075 - val_mae: 1.6075 - val_mse: 6.0619\n",
            "Epoch 86/300\n",
            "10/10 [==============================] - 0s 4ms/step - loss: 1.8463 - mae: 1.8463 - mse: 8.2148 - val_loss: 1.6077 - val_mae: 1.6077 - val_mse: 6.0659\n",
            "Epoch 87/300\n",
            "10/10 [==============================] - 0s 4ms/step - loss: 1.8461 - mae: 1.8461 - mse: 8.2142 - val_loss: 1.6071 - val_mae: 1.6071 - val_mse: 6.0612\n",
            "Epoch 88/300\n",
            "10/10 [==============================] - 0s 4ms/step - loss: 1.8462 - mae: 1.8462 - mse: 8.2120 - val_loss: 1.6070 - val_mae: 1.6070 - val_mse: 6.0617\n",
            "Epoch 89/300\n",
            "10/10 [==============================] - 0s 3ms/step - loss: 1.8460 - mae: 1.8460 - mse: 8.2166 - val_loss: 1.6077 - val_mae: 1.6077 - val_mse: 6.0703\n",
            "Epoch 90/300\n",
            "10/10 [==============================] - 0s 3ms/step - loss: 1.8458 - mae: 1.8458 - mse: 8.2181 - val_loss: 1.6073 - val_mae: 1.6073 - val_mse: 6.0679\n",
            "Epoch 91/300\n",
            "10/10 [==============================] - 0s 4ms/step - loss: 1.8458 - mae: 1.8458 - mse: 8.2163 - val_loss: 1.6070 - val_mae: 1.6070 - val_mse: 6.0666\n",
            "Epoch 92/300\n",
            "10/10 [==============================] - 0s 4ms/step - loss: 1.8458 - mae: 1.8458 - mse: 8.2158 - val_loss: 1.6069 - val_mae: 1.6069 - val_mse: 6.0670\n",
            "Epoch 93/300\n",
            "10/10 [==============================] - 0s 5ms/step - loss: 1.8456 - mae: 1.8456 - mse: 8.2184 - val_loss: 1.6072 - val_mae: 1.6072 - val_mse: 6.0711\n",
            "Epoch 94/300\n",
            "10/10 [==============================] - 0s 4ms/step - loss: 1.8458 - mae: 1.8458 - mse: 8.2231 - val_loss: 1.6073 - val_mae: 1.6073 - val_mse: 6.0732\n",
            "Epoch 95/300\n",
            "10/10 [==============================] - 0s 4ms/step - loss: 1.8455 - mae: 1.8455 - mse: 8.2185 - val_loss: 1.6064 - val_mae: 1.6064 - val_mse: 6.0656\n",
            "Epoch 96/300\n",
            "10/10 [==============================] - 0s 4ms/step - loss: 1.8453 - mae: 1.8453 - mse: 8.2169 - val_loss: 1.6066 - val_mae: 1.6066 - val_mse: 6.0701\n",
            "Epoch 97/300\n",
            "10/10 [==============================] - 0s 4ms/step - loss: 1.8453 - mae: 1.8453 - mse: 8.2174 - val_loss: 1.6065 - val_mae: 1.6065 - val_mse: 6.0710\n",
            "Epoch 98/300\n",
            "10/10 [==============================] - 0s 3ms/step - loss: 1.8449 - mae: 1.8449 - mse: 8.2213 - val_loss: 1.6068 - val_mae: 1.6068 - val_mse: 6.0752\n",
            "Epoch 99/300\n",
            "10/10 [==============================] - 0s 4ms/step - loss: 1.8451 - mae: 1.8451 - mse: 8.2238 - val_loss: 1.6067 - val_mae: 1.6067 - val_mse: 6.0756\n",
            "Epoch 100/300\n",
            "10/10 [==============================] - 0s 4ms/step - loss: 1.8449 - mae: 1.8449 - mse: 8.2244 - val_loss: 1.6070 - val_mae: 1.6070 - val_mse: 6.0793\n",
            "Epoch 101/300\n",
            "10/10 [==============================] - 0s 3ms/step - loss: 1.8448 - mae: 1.8448 - mse: 8.2247 - val_loss: 1.6062 - val_mae: 1.6062 - val_mse: 6.0736\n",
            "Epoch 102/300\n",
            "10/10 [==============================] - 0s 4ms/step - loss: 1.8448 - mae: 1.8448 - mse: 8.2203 - val_loss: 1.6056 - val_mae: 1.6056 - val_mse: 6.0689\n",
            "Epoch 103/300\n",
            "10/10 [==============================] - 0s 4ms/step - loss: 1.8446 - mae: 1.8446 - mse: 8.2210 - val_loss: 1.6064 - val_mae: 1.6064 - val_mse: 6.0790\n",
            "Epoch 104/300\n",
            "10/10 [==============================] - 0s 4ms/step - loss: 1.8445 - mae: 1.8445 - mse: 8.2244 - val_loss: 1.6060 - val_mae: 1.6060 - val_mse: 6.0762\n",
            "Epoch 105/300\n",
            "10/10 [==============================] - 0s 4ms/step - loss: 1.8443 - mae: 1.8443 - mse: 8.2250 - val_loss: 1.6060 - val_mae: 1.6060 - val_mse: 6.0785\n",
            "Epoch 106/300\n",
            "10/10 [==============================] - 0s 5ms/step - loss: 1.8442 - mae: 1.8442 - mse: 8.2247 - val_loss: 1.6055 - val_mae: 1.6055 - val_mse: 6.0748\n",
            "Epoch 107/300\n",
            "10/10 [==============================] - 0s 4ms/step - loss: 1.8441 - mae: 1.8441 - mse: 8.2240 - val_loss: 1.6057 - val_mae: 1.6057 - val_mse: 6.0783\n",
            "Epoch 108/300\n",
            "10/10 [==============================] - 0s 3ms/step - loss: 1.8444 - mae: 1.8444 - mse: 8.2222 - val_loss: 1.6049 - val_mae: 1.6049 - val_mse: 6.0708\n",
            "Epoch 109/300\n",
            "10/10 [==============================] - 0s 3ms/step - loss: 1.8441 - mae: 1.8441 - mse: 8.2234 - val_loss: 1.6058 - val_mae: 1.6058 - val_mse: 6.0828\n",
            "Epoch 110/300\n",
            "10/10 [==============================] - 0s 4ms/step - loss: 1.8438 - mae: 1.8438 - mse: 8.2285 - val_loss: 1.6057 - val_mae: 1.6057 - val_mse: 6.0830\n",
            "Epoch 111/300\n",
            "10/10 [==============================] - 0s 4ms/step - loss: 1.8437 - mae: 1.8437 - mse: 8.2262 - val_loss: 1.6049 - val_mae: 1.6049 - val_mse: 6.0769\n",
            "Epoch 112/300\n",
            "10/10 [==============================] - 0s 3ms/step - loss: 1.8436 - mae: 1.8436 - mse: 8.2235 - val_loss: 1.6048 - val_mae: 1.6048 - val_mse: 6.0782\n",
            "Epoch 113/300\n",
            "10/10 [==============================] - 0s 3ms/step - loss: 1.8434 - mae: 1.8434 - mse: 8.2259 - val_loss: 1.6053 - val_mae: 1.6053 - val_mse: 6.0842\n",
            "Epoch 114/300\n",
            "10/10 [==============================] - 0s 3ms/step - loss: 1.8434 - mae: 1.8434 - mse: 8.2293 - val_loss: 1.6048 - val_mae: 1.6048 - val_mse: 6.0818\n",
            "Epoch 115/300\n",
            "10/10 [==============================] - 0s 3ms/step - loss: 1.8432 - mae: 1.8432 - mse: 8.2278 - val_loss: 1.6046 - val_mae: 1.6046 - val_mse: 6.0812\n",
            "Epoch 116/300\n",
            "10/10 [==============================] - 0s 4ms/step - loss: 1.8434 - mae: 1.8434 - mse: 8.2252 - val_loss: 1.6043 - val_mae: 1.6043 - val_mse: 6.0789\n",
            "Epoch 117/300\n",
            "10/10 [==============================] - 0s 4ms/step - loss: 1.8430 - mae: 1.8430 - mse: 8.2273 - val_loss: 1.6048 - val_mae: 1.6048 - val_mse: 6.0861\n",
            "Epoch 118/300\n",
            "10/10 [==============================] - 0s 4ms/step - loss: 1.8430 - mae: 1.8430 - mse: 8.2326 - val_loss: 1.6049 - val_mae: 1.6049 - val_mse: 6.0895\n",
            "Epoch 119/300\n",
            "10/10 [==============================] - 0s 4ms/step - loss: 1.8428 - mae: 1.8428 - mse: 8.2341 - val_loss: 1.6049 - val_mae: 1.6049 - val_mse: 6.0905\n",
            "Epoch 120/300\n",
            "10/10 [==============================] - 0s 3ms/step - loss: 1.8427 - mae: 1.8427 - mse: 8.2327 - val_loss: 1.6044 - val_mae: 1.6044 - val_mse: 6.0877\n",
            "Epoch 121/300\n",
            "10/10 [==============================] - 0s 4ms/step - loss: 1.8424 - mae: 1.8424 - mse: 8.2314 - val_loss: 1.6039 - val_mae: 1.6039 - val_mse: 6.0846\n",
            "Epoch 122/300\n",
            "10/10 [==============================] - 0s 4ms/step - loss: 1.8424 - mae: 1.8424 - mse: 8.2310 - val_loss: 1.6040 - val_mae: 1.6040 - val_mse: 6.0880\n",
            "Epoch 123/300\n",
            "10/10 [==============================] - 0s 4ms/step - loss: 1.8424 - mae: 1.8424 - mse: 8.2338 - val_loss: 1.6039 - val_mae: 1.6039 - val_mse: 6.0880\n",
            "Epoch 124/300\n",
            "10/10 [==============================] - 0s 3ms/step - loss: 1.8423 - mae: 1.8423 - mse: 8.2344 - val_loss: 1.6043 - val_mae: 1.6043 - val_mse: 6.0941\n",
            "Epoch 125/300\n",
            "10/10 [==============================] - 0s 5ms/step - loss: 1.8421 - mae: 1.8421 - mse: 8.2347 - val_loss: 1.6036 - val_mae: 1.6036 - val_mse: 6.0889\n",
            "Epoch 126/300\n",
            "10/10 [==============================] - 0s 4ms/step - loss: 1.8420 - mae: 1.8420 - mse: 8.2321 - val_loss: 1.6035 - val_mae: 1.6035 - val_mse: 6.0894\n",
            "Epoch 127/300\n",
            "10/10 [==============================] - 0s 4ms/step - loss: 1.8420 - mae: 1.8420 - mse: 8.2385 - val_loss: 1.6043 - val_mae: 1.6043 - val_mse: 6.0988\n",
            "Epoch 128/300\n",
            "10/10 [==============================] - 0s 5ms/step - loss: 1.8418 - mae: 1.8418 - mse: 8.2394 - val_loss: 1.6036 - val_mae: 1.6036 - val_mse: 6.0949\n",
            "Epoch 129/300\n",
            "10/10 [==============================] - 0s 4ms/step - loss: 1.8415 - mae: 1.8415 - mse: 8.2375 - val_loss: 1.6033 - val_mae: 1.6033 - val_mse: 6.0935\n",
            "Epoch 130/300\n",
            "10/10 [==============================] - 0s 4ms/step - loss: 1.8414 - mae: 1.8414 - mse: 8.2359 - val_loss: 1.6028 - val_mae: 1.6028 - val_mse: 6.0898\n",
            "Epoch 131/300\n",
            "10/10 [==============================] - 0s 4ms/step - loss: 1.8418 - mae: 1.8418 - mse: 8.2328 - val_loss: 1.6025 - val_mae: 1.6025 - val_mse: 6.0880\n",
            "Epoch 132/300\n",
            "10/10 [==============================] - 0s 6ms/step - loss: 1.8414 - mae: 1.8414 - mse: 8.2371 - val_loss: 1.6033 - val_mae: 1.6033 - val_mse: 6.0984\n",
            "Epoch 133/300\n",
            "10/10 [==============================] - 0s 3ms/step - loss: 1.8413 - mae: 1.8413 - mse: 8.2430 - val_loss: 1.6035 - val_mae: 1.6035 - val_mse: 6.1025\n",
            "Epoch 134/300\n",
            "10/10 [==============================] - 0s 4ms/step - loss: 1.8410 - mae: 1.8410 - mse: 8.2411 - val_loss: 1.6025 - val_mae: 1.6025 - val_mse: 6.0946\n",
            "Epoch 135/300\n",
            "10/10 [==============================] - 0s 3ms/step - loss: 1.8408 - mae: 1.8408 - mse: 8.2378 - val_loss: 1.6027 - val_mae: 1.6027 - val_mse: 6.0986\n",
            "Epoch 136/300\n",
            "10/10 [==============================] - 0s 4ms/step - loss: 1.8407 - mae: 1.8407 - mse: 8.2411 - val_loss: 1.6025 - val_mae: 1.6025 - val_mse: 6.0988\n",
            "Epoch 137/300\n",
            "10/10 [==============================] - 0s 4ms/step - loss: 1.8406 - mae: 1.8406 - mse: 8.2395 - val_loss: 1.6021 - val_mae: 1.6021 - val_mse: 6.0964\n",
            "Epoch 138/300\n",
            "10/10 [==============================] - 0s 4ms/step - loss: 1.8405 - mae: 1.8405 - mse: 8.2416 - val_loss: 1.6026 - val_mae: 1.6026 - val_mse: 6.1028\n",
            "Epoch 139/300\n",
            "10/10 [==============================] - 0s 4ms/step - loss: 1.8404 - mae: 1.8404 - mse: 8.2420 - val_loss: 1.6021 - val_mae: 1.6021 - val_mse: 6.1006\n",
            "Epoch 140/300\n",
            "10/10 [==============================] - 0s 4ms/step - loss: 1.8403 - mae: 1.8403 - mse: 8.2456 - val_loss: 1.6026 - val_mae: 1.6026 - val_mse: 6.1067\n",
            "Epoch 141/300\n",
            "10/10 [==============================] - 0s 5ms/step - loss: 1.8401 - mae: 1.8401 - mse: 8.2454 - val_loss: 1.6021 - val_mae: 1.6021 - val_mse: 6.1040\n",
            "Epoch 142/300\n",
            "10/10 [==============================] - 0s 4ms/step - loss: 1.8399 - mae: 1.8399 - mse: 8.2449 - val_loss: 1.6017 - val_mae: 1.6017 - val_mse: 6.1022\n",
            "Epoch 143/300\n",
            "10/10 [==============================] - 0s 5ms/step - loss: 1.8399 - mae: 1.8399 - mse: 8.2426 - val_loss: 1.6016 - val_mae: 1.6016 - val_mse: 6.1028\n",
            "Epoch 144/300\n",
            "10/10 [==============================] - 0s 4ms/step - loss: 1.8398 - mae: 1.8398 - mse: 8.2423 - val_loss: 1.6013 - val_mae: 1.6013 - val_mse: 6.1020\n",
            "Epoch 145/300\n",
            "10/10 [==============================] - 0s 3ms/step - loss: 1.8400 - mae: 1.8400 - mse: 8.2490 - val_loss: 1.6026 - val_mae: 1.6026 - val_mse: 6.1155\n",
            "Epoch 146/300\n",
            "10/10 [==============================] - 0s 4ms/step - loss: 1.8399 - mae: 1.8399 - mse: 8.2478 - val_loss: 1.6008 - val_mae: 1.6008 - val_mse: 6.0995\n",
            "Epoch 147/300\n",
            "10/10 [==============================] - 0s 4ms/step - loss: 1.8393 - mae: 1.8393 - mse: 8.2441 - val_loss: 1.6014 - val_mae: 1.6014 - val_mse: 6.1089\n",
            "Epoch 148/300\n",
            "10/10 [==============================] - 0s 4ms/step - loss: 1.8393 - mae: 1.8393 - mse: 8.2513 - val_loss: 1.6017 - val_mae: 1.6017 - val_mse: 6.1141\n",
            "Epoch 149/300\n",
            "10/10 [==============================] - 0s 4ms/step - loss: 1.8391 - mae: 1.8391 - mse: 8.2514 - val_loss: 1.6012 - val_mae: 1.6012 - val_mse: 6.1109\n",
            "Epoch 150/300\n",
            "10/10 [==============================] - 0s 6ms/step - loss: 1.8390 - mae: 1.8390 - mse: 8.2483 - val_loss: 1.6007 - val_mae: 1.6007 - val_mse: 6.1088\n",
            "Epoch 151/300\n",
            "10/10 [==============================] - 0s 4ms/step - loss: 1.8389 - mae: 1.8389 - mse: 8.2488 - val_loss: 1.6004 - val_mae: 1.6004 - val_mse: 6.1072\n",
            "Epoch 152/300\n",
            "10/10 [==============================] - 0s 3ms/step - loss: 1.8387 - mae: 1.8387 - mse: 8.2480 - val_loss: 1.6008 - val_mae: 1.6008 - val_mse: 6.1135\n",
            "Epoch 153/300\n",
            "10/10 [==============================] - 0s 4ms/step - loss: 1.8386 - mae: 1.8386 - mse: 8.2530 - val_loss: 1.6010 - val_mae: 1.6010 - val_mse: 6.1170\n",
            "Epoch 154/300\n",
            "10/10 [==============================] - 0s 5ms/step - loss: 1.8386 - mae: 1.8386 - mse: 8.2504 - val_loss: 1.6000 - val_mae: 1.6000 - val_mse: 6.1089\n",
            "Epoch 155/300\n",
            "10/10 [==============================] - 0s 3ms/step - loss: 1.8385 - mae: 1.8385 - mse: 8.2499 - val_loss: 1.6004 - val_mae: 1.6004 - val_mse: 6.1157\n",
            "Epoch 156/300\n",
            "10/10 [==============================] - 0s 4ms/step - loss: 1.8381 - mae: 1.8381 - mse: 8.2537 - val_loss: 1.6001 - val_mae: 1.6001 - val_mse: 6.1147\n",
            "Epoch 157/300\n",
            "10/10 [==============================] - 0s 4ms/step - loss: 1.8385 - mae: 1.8385 - mse: 8.2561 - val_loss: 1.6006 - val_mae: 1.6006 - val_mse: 6.1210\n",
            "Epoch 158/300\n",
            "10/10 [==============================] - 0s 3ms/step - loss: 1.8387 - mae: 1.8387 - mse: 8.2501 - val_loss: 1.5992 - val_mae: 1.5992 - val_mse: 6.1079\n",
            "Epoch 159/300\n",
            "10/10 [==============================] - 0s 4ms/step - loss: 1.8379 - mae: 1.8379 - mse: 8.2532 - val_loss: 1.6004 - val_mae: 1.6004 - val_mse: 6.1232\n",
            "Epoch 160/300\n",
            "10/10 [==============================] - 0s 3ms/step - loss: 1.8380 - mae: 1.8380 - mse: 8.2614 - val_loss: 1.6001 - val_mae: 1.6001 - val_mse: 6.1227\n",
            "Epoch 161/300\n",
            "10/10 [==============================] - 0s 3ms/step - loss: 1.8384 - mae: 1.8384 - mse: 8.2519 - val_loss: 1.5988 - val_mae: 1.5988 - val_mse: 6.1094\n",
            "Epoch 162/300\n",
            "10/10 [==============================] - 0s 4ms/step - loss: 1.8377 - mae: 1.8377 - mse: 8.2578 - val_loss: 1.6002 - val_mae: 1.6002 - val_mse: 6.1266\n",
            "Epoch 163/300\n",
            "10/10 [==============================] - 0s 4ms/step - loss: 1.8373 - mae: 1.8373 - mse: 8.2596 - val_loss: 1.5992 - val_mae: 1.5992 - val_mse: 6.1197\n",
            "Epoch 164/300\n",
            "10/10 [==============================] - 0s 4ms/step - loss: 1.8371 - mae: 1.8371 - mse: 8.2576 - val_loss: 1.5990 - val_mae: 1.5990 - val_mse: 6.1188\n",
            "Epoch 165/300\n",
            "10/10 [==============================] - 0s 3ms/step - loss: 1.8370 - mae: 1.8370 - mse: 8.2556 - val_loss: 1.5990 - val_mae: 1.5990 - val_mse: 6.1213\n",
            "Epoch 166/300\n",
            "10/10 [==============================] - 0s 4ms/step - loss: 1.8367 - mae: 1.8367 - mse: 8.2607 - val_loss: 1.5994 - val_mae: 1.5994 - val_mse: 6.1276\n",
            "Epoch 167/300\n",
            "10/10 [==============================] - 0s 5ms/step - loss: 1.8370 - mae: 1.8370 - mse: 8.2660 - val_loss: 1.5994 - val_mae: 1.5994 - val_mse: 6.1299\n",
            "Epoch 168/300\n",
            "10/10 [==============================] - 0s 4ms/step - loss: 1.8365 - mae: 1.8365 - mse: 8.2610 - val_loss: 1.5984 - val_mae: 1.5984 - val_mse: 6.1216\n",
            "Epoch 169/300\n",
            "10/10 [==============================] - 0s 4ms/step - loss: 1.8367 - mae: 1.8367 - mse: 8.2618 - val_loss: 1.5987 - val_mae: 1.5987 - val_mse: 6.1277\n",
            "Epoch 170/300\n",
            "10/10 [==============================] - 0s 3ms/step - loss: 1.8363 - mae: 1.8363 - mse: 8.2611 - val_loss: 1.5979 - val_mae: 1.5979 - val_mse: 6.1199\n",
            "Epoch 171/300\n",
            "10/10 [==============================] - 0s 4ms/step - loss: 1.8362 - mae: 1.8362 - mse: 8.2588 - val_loss: 1.5988 - val_mae: 1.5988 - val_mse: 6.1320\n",
            "Epoch 172/300\n",
            "10/10 [==============================] - 0s 5ms/step - loss: 1.8362 - mae: 1.8362 - mse: 8.2675 - val_loss: 1.5982 - val_mae: 1.5982 - val_mse: 6.1286\n",
            "Epoch 173/300\n",
            "10/10 [==============================] - 0s 4ms/step - loss: 1.8361 - mae: 1.8361 - mse: 8.2611 - val_loss: 1.5980 - val_mae: 1.5980 - val_mse: 6.1287\n",
            "Epoch 174/300\n",
            "10/10 [==============================] - 0s 4ms/step - loss: 1.8360 - mae: 1.8360 - mse: 8.2620 - val_loss: 1.5978 - val_mae: 1.5978 - val_mse: 6.1280\n",
            "Epoch 175/300\n",
            "10/10 [==============================] - 0s 3ms/step - loss: 1.8357 - mae: 1.8357 - mse: 8.2685 - val_loss: 1.5979 - val_mae: 1.5979 - val_mse: 6.1324\n",
            "Epoch 176/300\n",
            "10/10 [==============================] - 0s 3ms/step - loss: 1.8355 - mae: 1.8355 - mse: 8.2652 - val_loss: 1.5977 - val_mae: 1.5977 - val_mse: 6.1317\n",
            "Epoch 177/300\n",
            "10/10 [==============================] - 0s 4ms/step - loss: 1.8353 - mae: 1.8353 - mse: 8.2668 - val_loss: 1.5981 - val_mae: 1.5981 - val_mse: 6.1374\n",
            "Epoch 178/300\n",
            "10/10 [==============================] - 0s 4ms/step - loss: 1.8354 - mae: 1.8354 - mse: 8.2687 - val_loss: 1.5976 - val_mae: 1.5976 - val_mse: 6.1350\n",
            "Epoch 179/300\n",
            "10/10 [==============================] - 0s 4ms/step - loss: 1.8353 - mae: 1.8353 - mse: 8.2715 - val_loss: 1.5975 - val_mae: 1.5975 - val_mse: 6.1367\n",
            "Epoch 180/300\n",
            "10/10 [==============================] - 0s 4ms/step - loss: 1.8348 - mae: 1.8348 - mse: 8.2683 - val_loss: 1.5969 - val_mae: 1.5969 - val_mse: 6.1327\n",
            "Epoch 181/300\n",
            "10/10 [==============================] - 0s 4ms/step - loss: 1.8353 - mae: 1.8353 - mse: 8.2678 - val_loss: 1.5977 - val_mae: 1.5977 - val_mse: 6.1416\n",
            "Epoch 182/300\n",
            "10/10 [==============================] - 0s 4ms/step - loss: 1.8348 - mae: 1.8348 - mse: 8.2716 - val_loss: 1.5970 - val_mae: 1.5970 - val_mse: 6.1383\n",
            "Epoch 183/300\n",
            "10/10 [==============================] - 0s 4ms/step - loss: 1.8345 - mae: 1.8345 - mse: 8.2715 - val_loss: 1.5968 - val_mae: 1.5968 - val_mse: 6.1382\n",
            "Epoch 184/300\n",
            "10/10 [==============================] - 0s 4ms/step - loss: 1.8344 - mae: 1.8344 - mse: 8.2697 - val_loss: 1.5972 - val_mae: 1.5972 - val_mse: 6.1432\n",
            "Epoch 185/300\n",
            "10/10 [==============================] - 0s 4ms/step - loss: 1.8348 - mae: 1.8348 - mse: 8.2740 - val_loss: 1.5963 - val_mae: 1.5963 - val_mse: 6.1363\n",
            "Epoch 186/300\n",
            "10/10 [==============================] - 0s 3ms/step - loss: 1.8342 - mae: 1.8342 - mse: 8.2730 - val_loss: 1.5968 - val_mae: 1.5968 - val_mse: 6.1434\n",
            "Epoch 187/300\n",
            "10/10 [==============================] - 0s 3ms/step - loss: 1.8339 - mae: 1.8339 - mse: 8.2738 - val_loss: 1.5962 - val_mae: 1.5962 - val_mse: 6.1398\n",
            "Epoch 188/300\n",
            "10/10 [==============================] - 0s 3ms/step - loss: 1.8343 - mae: 1.8343 - mse: 8.2759 - val_loss: 1.5960 - val_mae: 1.5960 - val_mse: 6.1400\n",
            "Epoch 189/300\n",
            "10/10 [==============================] - 0s 4ms/step - loss: 1.8340 - mae: 1.8340 - mse: 8.2769 - val_loss: 1.5961 - val_mae: 1.5961 - val_mse: 6.1437\n",
            "Epoch 190/300\n",
            "10/10 [==============================] - 0s 4ms/step - loss: 1.8335 - mae: 1.8335 - mse: 8.2735 - val_loss: 1.5963 - val_mae: 1.5963 - val_mse: 6.1469\n",
            "Epoch 191/300\n",
            "10/10 [==============================] - 0s 4ms/step - loss: 1.8338 - mae: 1.8338 - mse: 8.2801 - val_loss: 1.5958 - val_mae: 1.5958 - val_mse: 6.1387\n",
            "Epoch 192/300\n",
            "10/10 [==============================] - 0s 3ms/step - loss: 1.8339 - mae: 1.8339 - mse: 8.2730 - val_loss: 1.5963 - val_mae: 1.5963 - val_mse: 6.1493\n",
            "Epoch 193/300\n",
            "10/10 [==============================] - 0s 3ms/step - loss: 1.8338 - mae: 1.8338 - mse: 8.2785 - val_loss: 1.5956 - val_mae: 1.5956 - val_mse: 6.1425\n",
            "Epoch 194/300\n",
            "10/10 [==============================] - 0s 4ms/step - loss: 1.8339 - mae: 1.8339 - mse: 8.2805 - val_loss: 1.5955 - val_mae: 1.5955 - val_mse: 6.1441\n",
            "Epoch 195/300\n",
            "10/10 [==============================] - 0s 4ms/step - loss: 1.8348 - mae: 1.8348 - mse: 8.2731 - val_loss: 1.5969 - val_mae: 1.5969 - val_mse: 6.1534\n",
            "Epoch 196/300\n",
            "10/10 [==============================] - 0s 5ms/step - loss: 1.8332 - mae: 1.8332 - mse: 8.2804 - val_loss: 1.5955 - val_mae: 1.5955 - val_mse: 6.1479\n",
            "Epoch 197/300\n",
            "10/10 [==============================] - 0s 4ms/step - loss: 1.8330 - mae: 1.8330 - mse: 8.2801 - val_loss: 1.5953 - val_mae: 1.5953 - val_mse: 6.1473\n",
            "Epoch 198/300\n",
            "10/10 [==============================] - 0s 4ms/step - loss: 1.8328 - mae: 1.8328 - mse: 8.2790 - val_loss: 1.5953 - val_mae: 1.5953 - val_mse: 6.1497\n",
            "Epoch 199/300\n",
            "10/10 [==============================] - 0s 4ms/step - loss: 1.8327 - mae: 1.8327 - mse: 8.2800 - val_loss: 1.5964 - val_mae: 1.5964 - val_mse: 6.1546\n",
            "Epoch 200/300\n",
            "10/10 [==============================] - 0s 4ms/step - loss: 1.8335 - mae: 1.8335 - mse: 8.2816 - val_loss: 1.5951 - val_mae: 1.5951 - val_mse: 6.1495\n",
            "Epoch 201/300\n",
            "10/10 [==============================] - 0s 5ms/step - loss: 1.8329 - mae: 1.8329 - mse: 8.2807 - val_loss: 1.5950 - val_mae: 1.5950 - val_mse: 6.1505\n",
            "Epoch 202/300\n",
            "10/10 [==============================] - 0s 3ms/step - loss: 1.8332 - mae: 1.8332 - mse: 8.2826 - val_loss: 1.5979 - val_mae: 1.5979 - val_mse: 6.1595\n",
            "Epoch 203/300\n",
            "10/10 [==============================] - 0s 4ms/step - loss: 1.8338 - mae: 1.8338 - mse: 8.2814 - val_loss: 1.5953 - val_mae: 1.5953 - val_mse: 6.1420\n",
            "Epoch 204/300\n",
            "10/10 [==============================] - 0s 5ms/step - loss: 1.8336 - mae: 1.8336 - mse: 8.2800 - val_loss: 1.5950 - val_mae: 1.5950 - val_mse: 6.1500\n",
            "Epoch 205/300\n",
            "10/10 [==============================] - 0s 4ms/step - loss: 1.8335 - mae: 1.8335 - mse: 8.2823 - val_loss: 1.5955 - val_mae: 1.5955 - val_mse: 6.1533\n",
            "Epoch 206/300\n",
            "10/10 [==============================] - 0s 4ms/step - loss: 1.8332 - mae: 1.8332 - mse: 8.2802 - val_loss: 1.5953 - val_mae: 1.5953 - val_mse: 6.1530\n",
            "Epoch 207/300\n",
            "10/10 [==============================] - 0s 4ms/step - loss: 1.8327 - mae: 1.8327 - mse: 8.2815 - val_loss: 1.5950 - val_mae: 1.5950 - val_mse: 6.1496\n",
            "Epoch 208/300\n",
            "10/10 [==============================] - 0s 4ms/step - loss: 1.8330 - mae: 1.8330 - mse: 8.2820 - val_loss: 1.5951 - val_mae: 1.5951 - val_mse: 6.1462\n",
            "Epoch 209/300\n",
            "10/10 [==============================] - 0s 4ms/step - loss: 1.8335 - mae: 1.8335 - mse: 8.2817 - val_loss: 1.5960 - val_mae: 1.5960 - val_mse: 6.1550\n",
            "Epoch 210/300\n",
            "10/10 [==============================] - 0s 4ms/step - loss: 1.8333 - mae: 1.8333 - mse: 8.2817 - val_loss: 1.5949 - val_mae: 1.5949 - val_mse: 6.1519\n",
            "Epoch 211/300\n",
            "10/10 [==============================] - 0s 3ms/step - loss: 1.8325 - mae: 1.8325 - mse: 8.2811 - val_loss: 1.5959 - val_mae: 1.5959 - val_mse: 6.1548\n",
            "Epoch 212/300\n",
            "10/10 [==============================] - 0s 4ms/step - loss: 1.8333 - mae: 1.8333 - mse: 8.2841 - val_loss: 1.5954 - val_mae: 1.5954 - val_mse: 6.1534\n",
            "Epoch 213/300\n",
            "10/10 [==============================] - 0s 5ms/step - loss: 1.8327 - mae: 1.8327 - mse: 8.2819 - val_loss: 1.5950 - val_mae: 1.5950 - val_mse: 6.1498\n",
            "Epoch 214/300\n",
            "10/10 [==============================] - 0s 4ms/step - loss: 1.8330 - mae: 1.8330 - mse: 8.2816 - val_loss: 1.5950 - val_mae: 1.5950 - val_mse: 6.1503\n",
            "Epoch 215/300\n",
            "10/10 [==============================] - 0s 4ms/step - loss: 1.8325 - mae: 1.8325 - mse: 8.2819 - val_loss: 1.5952 - val_mae: 1.5952 - val_mse: 6.1531\n",
            "Epoch 216/300\n",
            "10/10 [==============================] - 0s 3ms/step - loss: 1.8324 - mae: 1.8324 - mse: 8.2820 - val_loss: 1.5950 - val_mae: 1.5950 - val_mse: 6.1522\n",
            "Epoch 217/300\n",
            "10/10 [==============================] - 0s 4ms/step - loss: 1.8330 - mae: 1.8330 - mse: 8.2808 - val_loss: 1.5965 - val_mae: 1.5965 - val_mse: 6.1563\n",
            "Epoch 218/300\n",
            "10/10 [==============================] - 0s 5ms/step - loss: 1.8336 - mae: 1.8336 - mse: 8.2808 - val_loss: 1.5954 - val_mae: 1.5954 - val_mse: 6.1531\n",
            "Epoch 219/300\n",
            "10/10 [==============================] - 0s 5ms/step - loss: 1.8329 - mae: 1.8329 - mse: 8.2812 - val_loss: 1.5951 - val_mae: 1.5951 - val_mse: 6.1474\n",
            "Epoch 220/300\n",
            "10/10 [==============================] - 0s 4ms/step - loss: 1.8329 - mae: 1.8329 - mse: 8.2813 - val_loss: 1.5950 - val_mae: 1.5950 - val_mse: 6.1497\n",
            "Epoch 221/300\n",
            "10/10 [==============================] - 0s 3ms/step - loss: 1.8328 - mae: 1.8328 - mse: 8.2814 - val_loss: 1.5950 - val_mae: 1.5950 - val_mse: 6.1509\n",
            "Epoch 222/300\n",
            "10/10 [==============================] - 0s 5ms/step - loss: 1.8325 - mae: 1.8325 - mse: 8.2814 - val_loss: 1.5951 - val_mae: 1.5951 - val_mse: 6.1526\n",
            "Epoch 223/300\n",
            "10/10 [==============================] - 0s 6ms/step - loss: 1.8329 - mae: 1.8329 - mse: 8.2813 - val_loss: 1.5949 - val_mae: 1.5949 - val_mse: 6.1520\n",
            "Epoch 224/300\n",
            "10/10 [==============================] - 0s 4ms/step - loss: 1.8324 - mae: 1.8324 - mse: 8.2814 - val_loss: 1.5952 - val_mae: 1.5952 - val_mse: 6.1530\n",
            "Epoch 225/300\n",
            "10/10 [==============================] - 0s 4ms/step - loss: 1.8326 - mae: 1.8326 - mse: 8.2816 - val_loss: 1.5957 - val_mae: 1.5957 - val_mse: 6.1543\n",
            "Epoch 226/300\n",
            "10/10 [==============================] - 0s 4ms/step - loss: 1.8327 - mae: 1.8327 - mse: 8.2816 - val_loss: 1.5955 - val_mae: 1.5955 - val_mse: 6.1538\n",
            "Epoch 227/300\n",
            "10/10 [==============================] - 0s 5ms/step - loss: 1.8333 - mae: 1.8333 - mse: 8.2799 - val_loss: 1.5950 - val_mae: 1.5950 - val_mse: 6.1482\n",
            "Epoch 228/300\n",
            "10/10 [==============================] - 0s 4ms/step - loss: 1.8340 - mae: 1.8340 - mse: 8.2868 - val_loss: 1.5950 - val_mae: 1.5950 - val_mse: 6.1492\n",
            "Epoch 229/300\n",
            "10/10 [==============================] - 0s 4ms/step - loss: 1.8331 - mae: 1.8331 - mse: 8.2829 - val_loss: 1.5949 - val_mae: 1.5949 - val_mse: 6.1515\n",
            "Epoch 230/300\n",
            "10/10 [==============================] - 0s 5ms/step - loss: 1.8326 - mae: 1.8326 - mse: 8.2827 - val_loss: 1.5949 - val_mae: 1.5949 - val_mse: 6.1505\n",
            "Epoch 231/300\n",
            "10/10 [==============================] - 0s 3ms/step - loss: 1.8333 - mae: 1.8333 - mse: 8.2832 - val_loss: 1.5950 - val_mae: 1.5950 - val_mse: 6.1482\n",
            "Epoch 232/300\n",
            "10/10 [==============================] - 0s 3ms/step - loss: 1.8332 - mae: 1.8332 - mse: 8.2802 - val_loss: 1.5966 - val_mae: 1.5966 - val_mse: 6.1570\n",
            "Epoch 233/300\n",
            "10/10 [==============================] - 0s 4ms/step - loss: 1.8329 - mae: 1.8329 - mse: 8.2818 - val_loss: 1.5976 - val_mae: 1.5976 - val_mse: 6.1597\n",
            "Epoch 234/300\n",
            "10/10 [==============================] - 0s 3ms/step - loss: 1.8339 - mae: 1.8339 - mse: 8.2823 - val_loss: 1.5949 - val_mae: 1.5949 - val_mse: 6.1508\n",
            "Epoch 235/300\n",
            "10/10 [==============================] - 0s 4ms/step - loss: 1.8334 - mae: 1.8334 - mse: 8.2827 - val_loss: 1.5952 - val_mae: 1.5952 - val_mse: 6.1435\n",
            "Epoch 236/300\n",
            "10/10 [==============================] - 0s 4ms/step - loss: 1.8341 - mae: 1.8341 - mse: 8.2848 - val_loss: 1.5954 - val_mae: 1.5954 - val_mse: 6.1541\n",
            "Epoch 237/300\n",
            "10/10 [==============================] - 0s 3ms/step - loss: 1.8335 - mae: 1.8335 - mse: 8.2847 - val_loss: 1.5954 - val_mae: 1.5954 - val_mse: 6.1538\n",
            "Epoch 238/300\n",
            "10/10 [==============================] - 0s 3ms/step - loss: 1.8332 - mae: 1.8332 - mse: 8.2815 - val_loss: 1.5961 - val_mae: 1.5961 - val_mse: 6.1557\n",
            "Epoch 239/300\n",
            "10/10 [==============================] - 0s 4ms/step - loss: 1.8331 - mae: 1.8331 - mse: 8.2804 - val_loss: 1.5969 - val_mae: 1.5969 - val_mse: 6.1579\n",
            "Epoch 240/300\n",
            "10/10 [==============================] - 0s 4ms/step - loss: 1.8335 - mae: 1.8335 - mse: 8.2846 - val_loss: 1.5952 - val_mae: 1.5952 - val_mse: 6.1440\n",
            "Epoch 241/300\n",
            "10/10 [==============================] - 0s 4ms/step - loss: 1.8336 - mae: 1.8336 - mse: 8.2803 - val_loss: 1.5949 - val_mae: 1.5949 - val_mse: 6.1516\n",
            "Epoch 242/300\n",
            "10/10 [==============================] - 0s 5ms/step - loss: 1.8328 - mae: 1.8328 - mse: 8.2815 - val_loss: 1.5949 - val_mae: 1.5949 - val_mse: 6.1522\n",
            "Epoch 243/300\n",
            "10/10 [==============================] - 0s 5ms/step - loss: 1.8325 - mae: 1.8325 - mse: 8.2822 - val_loss: 1.5949 - val_mae: 1.5949 - val_mse: 6.1503\n",
            "Epoch 244/300\n",
            "10/10 [==============================] - 0s 4ms/step - loss: 1.8325 - mae: 1.8325 - mse: 8.2818 - val_loss: 1.5952 - val_mae: 1.5952 - val_mse: 6.1532\n",
            "Epoch 245/300\n",
            "10/10 [==============================] - 0s 4ms/step - loss: 1.8324 - mae: 1.8324 - mse: 8.2819 - val_loss: 1.5952 - val_mae: 1.5952 - val_mse: 6.1529\n",
            "Epoch 246/300\n",
            "10/10 [==============================] - 0s 5ms/step - loss: 1.8324 - mae: 1.8324 - mse: 8.2814 - val_loss: 1.5949 - val_mae: 1.5949 - val_mse: 6.1519\n",
            "Epoch 247/300\n",
            "10/10 [==============================] - 0s 3ms/step - loss: 1.8329 - mae: 1.8329 - mse: 8.2817 - val_loss: 1.5954 - val_mae: 1.5954 - val_mse: 6.1533\n",
            "Epoch 248/300\n",
            "10/10 [==============================] - 0s 4ms/step - loss: 1.8329 - mae: 1.8329 - mse: 8.2817 - val_loss: 1.5950 - val_mae: 1.5950 - val_mse: 6.1507\n",
            "Epoch 249/300\n",
            "10/10 [==============================] - 0s 5ms/step - loss: 1.8327 - mae: 1.8327 - mse: 8.2816 - val_loss: 1.5966 - val_mae: 1.5966 - val_mse: 6.1564\n",
            "Epoch 250/300\n",
            "10/10 [==============================] - 0s 4ms/step - loss: 1.8331 - mae: 1.8331 - mse: 8.2833 - val_loss: 1.5951 - val_mae: 1.5951 - val_mse: 6.1480\n",
            "Epoch 251/300\n",
            "10/10 [==============================] - 0s 4ms/step - loss: 1.8342 - mae: 1.8342 - mse: 8.2837 - val_loss: 1.5951 - val_mae: 1.5951 - val_mse: 6.1458\n",
            "Epoch 252/300\n",
            "10/10 [==============================] - 0s 4ms/step - loss: 1.8330 - mae: 1.8330 - mse: 8.2821 - val_loss: 1.5950 - val_mae: 1.5950 - val_mse: 6.1495\n",
            "Epoch 253/300\n",
            "10/10 [==============================] - 0s 5ms/step - loss: 1.8332 - mae: 1.8332 - mse: 8.2826 - val_loss: 1.5952 - val_mae: 1.5952 - val_mse: 6.1439\n",
            "Epoch 254/300\n",
            "10/10 [==============================] - 0s 5ms/step - loss: 1.8338 - mae: 1.8338 - mse: 8.2797 - val_loss: 1.5967 - val_mae: 1.5967 - val_mse: 6.1570\n",
            "Epoch 255/300\n",
            "10/10 [==============================] - 0s 4ms/step - loss: 1.8330 - mae: 1.8330 - mse: 8.2815 - val_loss: 1.5959 - val_mae: 1.5959 - val_mse: 6.1550\n",
            "Epoch 256/300\n",
            "10/10 [==============================] - 0s 4ms/step - loss: 1.8332 - mae: 1.8332 - mse: 8.2809 - val_loss: 1.5956 - val_mae: 1.5956 - val_mse: 6.1544\n",
            "Epoch 257/300\n",
            "10/10 [==============================] - 0s 4ms/step - loss: 1.8330 - mae: 1.8330 - mse: 8.2810 - val_loss: 1.5950 - val_mae: 1.5950 - val_mse: 6.1496\n",
            "Epoch 258/300\n",
            "10/10 [==============================] - 0s 4ms/step - loss: 1.8326 - mae: 1.8326 - mse: 8.2818 - val_loss: 1.5951 - val_mae: 1.5951 - val_mse: 6.1531\n",
            "Epoch 259/300\n",
            "10/10 [==============================] - 0s 3ms/step - loss: 1.8326 - mae: 1.8326 - mse: 8.2818 - val_loss: 1.5962 - val_mae: 1.5962 - val_mse: 6.1561\n",
            "Epoch 260/300\n",
            "10/10 [==============================] - 0s 3ms/step - loss: 1.8329 - mae: 1.8329 - mse: 8.2826 - val_loss: 1.5957 - val_mae: 1.5957 - val_mse: 6.1546\n",
            "Epoch 261/300\n",
            "10/10 [==============================] - 0s 4ms/step - loss: 1.8329 - mae: 1.8329 - mse: 8.2813 - val_loss: 1.5949 - val_mae: 1.5949 - val_mse: 6.1517\n",
            "Epoch 262/300\n",
            "10/10 [==============================] - 0s 4ms/step - loss: 1.8326 - mae: 1.8326 - mse: 8.2830 - val_loss: 1.5958 - val_mae: 1.5958 - val_mse: 6.1549\n",
            "Epoch 263/300\n",
            "10/10 [==============================] - 0s 6ms/step - loss: 1.8334 - mae: 1.8334 - mse: 8.2845 - val_loss: 1.5959 - val_mae: 1.5959 - val_mse: 6.1551\n",
            "Epoch 264/300\n",
            "10/10 [==============================] - 0s 4ms/step - loss: 1.8334 - mae: 1.8334 - mse: 8.2837 - val_loss: 1.5949 - val_mae: 1.5949 - val_mse: 6.1515\n",
            "Epoch 265/300\n",
            "10/10 [==============================] - 0s 4ms/step - loss: 1.8335 - mae: 1.8335 - mse: 8.2811 - val_loss: 1.5977 - val_mae: 1.5977 - val_mse: 6.1602\n",
            "Epoch 266/300\n",
            "10/10 [==============================] - 0s 3ms/step - loss: 1.8335 - mae: 1.8335 - mse: 8.2792 - val_loss: 1.5952 - val_mae: 1.5952 - val_mse: 6.1429\n",
            "Epoch 267/300\n",
            "10/10 [==============================] - 0s 4ms/step - loss: 1.8340 - mae: 1.8340 - mse: 8.2825 - val_loss: 1.5954 - val_mae: 1.5954 - val_mse: 6.1543\n",
            "Epoch 268/300\n",
            "10/10 [==============================] - 0s 4ms/step - loss: 1.8339 - mae: 1.8339 - mse: 8.2765 - val_loss: 1.5949 - val_mae: 1.5949 - val_mse: 6.1517\n",
            "Epoch 269/300\n",
            "10/10 [==============================] - 0s 4ms/step - loss: 1.8340 - mae: 1.8340 - mse: 8.2864 - val_loss: 1.5951 - val_mae: 1.5951 - val_mse: 6.1463\n",
            "Epoch 270/300\n",
            "10/10 [==============================] - 0s 4ms/step - loss: 1.8341 - mae: 1.8341 - mse: 8.2745 - val_loss: 1.5966 - val_mae: 1.5966 - val_mse: 6.1576\n",
            "Epoch 271/300\n",
            "10/10 [==============================] - 0s 4ms/step - loss: 1.8338 - mae: 1.8338 - mse: 8.2875 - val_loss: 1.5950 - val_mae: 1.5950 - val_mse: 6.1475\n",
            "Epoch 272/300\n",
            "10/10 [==============================] - 0s 4ms/step - loss: 1.8329 - mae: 1.8329 - mse: 8.2801 - val_loss: 1.5954 - val_mae: 1.5954 - val_mse: 6.1544\n",
            "Epoch 273/300\n",
            "10/10 [==============================] - 0s 4ms/step - loss: 1.8330 - mae: 1.8330 - mse: 8.2817 - val_loss: 1.5957 - val_mae: 1.5957 - val_mse: 6.1554\n",
            "Epoch 274/300\n",
            "10/10 [==============================] - 0s 4ms/step - loss: 1.8325 - mae: 1.8325 - mse: 8.2816 - val_loss: 1.5960 - val_mae: 1.5960 - val_mse: 6.1559\n",
            "Epoch 275/300\n",
            "10/10 [==============================] - 0s 5ms/step - loss: 1.8331 - mae: 1.8331 - mse: 8.2825 - val_loss: 1.5960 - val_mae: 1.5960 - val_mse: 6.1558\n",
            "Epoch 276/300\n",
            "10/10 [==============================] - 0s 5ms/step - loss: 1.8333 - mae: 1.8333 - mse: 8.2844 - val_loss: 1.5951 - val_mae: 1.5951 - val_mse: 6.1443\n",
            "Epoch 277/300\n",
            "10/10 [==============================] - 0s 4ms/step - loss: 1.8346 - mae: 1.8346 - mse: 8.2807 - val_loss: 1.5973 - val_mae: 1.5973 - val_mse: 6.1593\n",
            "Epoch 278/300\n",
            "10/10 [==============================] - 0s 4ms/step - loss: 1.8337 - mae: 1.8337 - mse: 8.2819 - val_loss: 1.5955 - val_mae: 1.5955 - val_mse: 6.1547\n",
            "Epoch 279/300\n",
            "10/10 [==============================] - 0s 3ms/step - loss: 1.8330 - mae: 1.8330 - mse: 8.2837 - val_loss: 1.5967 - val_mae: 1.5967 - val_mse: 6.1579\n",
            "Epoch 280/300\n",
            "10/10 [==============================] - 0s 4ms/step - loss: 1.8331 - mae: 1.8331 - mse: 8.2832 - val_loss: 1.5965 - val_mae: 1.5965 - val_mse: 6.1573\n",
            "Epoch 281/300\n",
            "10/10 [==============================] - 0s 4ms/step - loss: 1.8332 - mae: 1.8332 - mse: 8.2829 - val_loss: 1.5950 - val_mae: 1.5950 - val_mse: 6.1478\n",
            "Epoch 282/300\n",
            "10/10 [==============================] - 0s 4ms/step - loss: 1.8332 - mae: 1.8332 - mse: 8.2844 - val_loss: 1.5949 - val_mae: 1.5949 - val_mse: 6.1513\n",
            "Epoch 283/300\n",
            "10/10 [==============================] - 0s 4ms/step - loss: 1.8327 - mae: 1.8327 - mse: 8.2812 - val_loss: 1.5949 - val_mae: 1.5949 - val_mse: 6.1495\n",
            "Epoch 284/300\n",
            "10/10 [==============================] - 0s 3ms/step - loss: 1.8328 - mae: 1.8328 - mse: 8.2828 - val_loss: 1.5950 - val_mae: 1.5950 - val_mse: 6.1481\n",
            "Epoch 285/300\n",
            "10/10 [==============================] - 0s 4ms/step - loss: 1.8330 - mae: 1.8330 - mse: 8.2835 - val_loss: 1.5949 - val_mae: 1.5949 - val_mse: 6.1519\n",
            "Epoch 286/300\n",
            "10/10 [==============================] - 0s 4ms/step - loss: 1.8325 - mae: 1.8325 - mse: 8.2821 - val_loss: 1.5954 - val_mae: 1.5954 - val_mse: 6.1543\n",
            "Epoch 287/300\n",
            "10/10 [==============================] - 0s 4ms/step - loss: 1.8324 - mae: 1.8324 - mse: 8.2811 - val_loss: 1.5955 - val_mae: 1.5955 - val_mse: 6.1541\n",
            "Epoch 288/300\n",
            "10/10 [==============================] - 0s 4ms/step - loss: 1.8329 - mae: 1.8329 - mse: 8.2807 - val_loss: 1.5964 - val_mae: 1.5964 - val_mse: 6.1564\n",
            "Epoch 289/300\n",
            "10/10 [==============================] - 0s 5ms/step - loss: 1.8331 - mae: 1.8331 - mse: 8.2802 - val_loss: 1.5955 - val_mae: 1.5955 - val_mse: 6.1541\n",
            "Epoch 290/300\n",
            "10/10 [==============================] - 0s 5ms/step - loss: 1.8326 - mae: 1.8326 - mse: 8.2828 - val_loss: 1.5949 - val_mae: 1.5949 - val_mse: 6.1522\n",
            "Epoch 291/300\n",
            "10/10 [==============================] - 0s 4ms/step - loss: 1.8326 - mae: 1.8326 - mse: 8.2823 - val_loss: 1.5951 - val_mae: 1.5951 - val_mse: 6.1530\n",
            "Epoch 292/300\n",
            "10/10 [==============================] - 0s 4ms/step - loss: 1.8324 - mae: 1.8324 - mse: 8.2822 - val_loss: 1.5953 - val_mae: 1.5953 - val_mse: 6.1532\n",
            "Epoch 293/300\n",
            "10/10 [==============================] - 0s 5ms/step - loss: 1.8329 - mae: 1.8329 - mse: 8.2799 - val_loss: 1.5959 - val_mae: 1.5959 - val_mse: 6.1546\n",
            "Epoch 294/300\n",
            "10/10 [==============================] - 0s 4ms/step - loss: 1.8336 - mae: 1.8336 - mse: 8.2808 - val_loss: 1.5965 - val_mae: 1.5965 - val_mse: 6.1566\n",
            "Epoch 295/300\n",
            "10/10 [==============================] - 0s 4ms/step - loss: 1.8331 - mae: 1.8331 - mse: 8.2814 - val_loss: 1.5949 - val_mae: 1.5949 - val_mse: 6.1518\n",
            "Epoch 296/300\n",
            "10/10 [==============================] - 0s 4ms/step - loss: 1.8332 - mae: 1.8332 - mse: 8.2825 - val_loss: 1.5950 - val_mae: 1.5950 - val_mse: 6.1488\n",
            "Epoch 297/300\n",
            "10/10 [==============================] - 0s 4ms/step - loss: 1.8329 - mae: 1.8329 - mse: 8.2827 - val_loss: 1.5950 - val_mae: 1.5950 - val_mse: 6.1524\n",
            "Epoch 298/300\n",
            "10/10 [==============================] - 0s 4ms/step - loss: 1.8327 - mae: 1.8327 - mse: 8.2816 - val_loss: 1.5951 - val_mae: 1.5951 - val_mse: 6.1529\n",
            "Epoch 299/300\n",
            "10/10 [==============================] - 0s 4ms/step - loss: 1.8326 - mae: 1.8326 - mse: 8.2824 - val_loss: 1.5952 - val_mae: 1.5952 - val_mse: 6.1530\n",
            "Epoch 300/300\n",
            "10/10 [==============================] - 0s 4ms/step - loss: 1.8328 - mae: 1.8328 - mse: 8.2824 - val_loss: 1.5966 - val_mae: 1.5966 - val_mse: 6.1570\n"
          ],
          "name": "stdout"
        }
      ]
    },
    {
      "cell_type": "code",
      "metadata": {
        "colab": {
          "base_uri": "https://localhost:8080/"
        },
        "id": "Rcs-LbhYcqSZ",
        "outputId": "445674c6-3d61-43ad-b518-f9339c9910ec"
      },
      "source": [
        "print(history)"
      ],
      "execution_count": 59,
      "outputs": [
        {
          "output_type": "stream",
          "text": [
            "<tensorflow.python.keras.callbacks.History object at 0x7f3f5f7b0b50>\n"
          ],
          "name": "stdout"
        }
      ]
    },
    {
      "cell_type": "code",
      "metadata": {
        "colab": {
          "base_uri": "https://localhost:8080/"
        },
        "id": "-RBq41t4cvGo",
        "outputId": "eef41e12-ba8f-4036-8aeb-dcaa6d77419d"
      },
      "source": [
        "model.summary()"
      ],
      "execution_count": 60,
      "outputs": [
        {
          "output_type": "stream",
          "text": [
            "Model: \"sequential_1\"\n",
            "_________________________________________________________________\n",
            "Layer (type)                 Output Shape              Param #   \n",
            "=================================================================\n",
            "dense_1 (Dense)              (None, 1)                 2         \n",
            "=================================================================\n",
            "Total params: 2\n",
            "Trainable params: 2\n",
            "Non-trainable params: 0\n",
            "_________________________________________________________________\n"
          ],
          "name": "stdout"
        }
      ]
    },
    {
      "cell_type": "code",
      "metadata": {
        "colab": {
          "base_uri": "https://localhost:8080/",
          "height": 1000
        },
        "id": "JZNLQWcscxjq",
        "outputId": "2fedc2d2-d8d2-4160-95a9-3a01240f4b12"
      },
      "source": [
        "# tempString = 'mse'\n",
        "def curvePlots(tempString):\n",
        "  plt.plot(history.history[tempString])\n",
        "  plt.plot(history.history[f'val_{tempString}'])\n",
        "  plt.xlabel('NumEpochs')\n",
        "  plt.ylabel(tempString)\n",
        "  plt.legend([tempString, f'val_{tempString}'])\n",
        "  plt.show()\n",
        "\n",
        "\n",
        "curvePlots('mse')\n",
        "curvePlots('mae')\n",
        "curvePlots('loss')"
      ],
      "execution_count": 61,
      "outputs": [
        {
          "output_type": "display_data",
          "data": {
            "image/png": "[encoded data removed]",
            "text/plain": [
              "<Figure size 576x396 with 1 Axes>"
            ]
          },
          "metadata": {
            "tags": []
          }
        },
        {
          "output_type": "display_data",
          "data": {
            "image/png": "[encoded data removed]",
            "text/plain": [
              "<Figure size 576x396 with 1 Axes>"
            ]
          },
          "metadata": {
            "tags": []
          }
        },
        {
          "output_type": "display_data",
          "data": {
            "image/png": "[encoded data removed]",
            "text/plain": [
              "<Figure size 576x396 with 1 Axes>"
            ]
          },
          "metadata": {
            "tags": []
          }
        }
      ]
    },
    {
      "cell_type": "code",
      "metadata": {
        "colab": {
          "base_uri": "https://localhost:8080/"
        },
        "id": "j_byww2Mc2cx",
        "outputId": "7b1a4bb0-1b63-421c-8266-3de621c82eb8"
      },
      "source": [
        "model.predict([1])"
      ],
      "execution_count": 62,
      "outputs": [
        {
          "output_type": "execute_result",
          "data": {
            "text/plain": [
              "array([[1.0024168]], dtype=float32)"
            ]
          },
          "metadata": {
            "tags": []
          },
          "execution_count": 62
        }
      ]
    },
    {
      "cell_type": "code",
      "metadata": {
        "colab": {
          "base_uri": "https://localhost:8080/"
        },
        "id": "T51q2Ypfc_UF",
        "outputId": "d89d783f-bcb8-4f96-ead8-b12f769ba171"
      },
      "source": [
        "# testPreds = model.predict(testFeatures).flatten() #array of all prediction values\n",
        "\n",
        "#for single values\n",
        "\n",
        "print(f'Prediction for input value 1: {model.predict([1])}')\n",
        "\n",
        "\n",
        "# for a list of values\n",
        "tempListforPreds = [1,2,3,4,5]\n",
        "print(f'''\n",
        "\n",
        "input List = {tempListforPreds}\n",
        "\n",
        "\n",
        "List of Predictions:\n",
        "{model.predict(tempListforPreds)}\n",
        "\n",
        "List of Predictions (flattened out):\n",
        "{model.predict(tempListforPreds).flatten()}\n",
        "''')"
      ],
      "execution_count": 63,
      "outputs": [
        {
          "output_type": "stream",
          "text": [
            "Prediction for input value 1: [[1.0024168]]\n",
            "\n",
            "\n",
            "input List = [1, 2, 3, 4, 5]\n",
            "\n",
            "\n",
            "List of Predictions:\n",
            "[[1.0024168]\n",
            " [2.002649 ]\n",
            " [3.002881 ]\n",
            " [4.0031133]\n",
            " [5.0033455]]\n",
            "\n",
            "List of Predictions (flattened out):\n",
            "[1.0024168 2.002649  3.002881  4.0031133 5.0033455]\n",
            "\n"
          ],
          "name": "stdout"
        }
      ]
    },
    {
      "cell_type": "code",
      "metadata": {
        "colab": {
          "base_uri": "https://localhost:8080/"
        },
        "id": "S3kvegM-dEg_",
        "outputId": "556d116e-2666-48df-adfa-d2e11487a0da"
      },
      "source": [
        "print(testFeatures)"
      ],
      "execution_count": 64,
      "outputs": [
        {
          "output_type": "stream",
          "text": [
            "     G1\n",
            "9    14\n",
            "25    6\n",
            "28   11\n",
            "31   17\n",
            "32   17\n",
            "..   ..\n",
            "365  10\n",
            "367   7\n",
            "379  10\n",
            "381   7\n",
            "393  11\n",
            "\n",
            "[79 rows x 1 columns]\n"
          ],
          "name": "stdout"
        }
      ]
    },
    {
      "cell_type": "code",
      "metadata": {
        "id": "H_3P1UahdJNQ"
      },
      "source": [
        "testPreds = model.predict(testFeatures).flatten() #array of all prediction values"
      ],
      "execution_count": 65,
      "outputs": []
    },
    {
      "cell_type": "code",
      "metadata": {
        "colab": {
          "base_uri": "https://localhost:8080/"
        },
        "id": "cmTKZnXidqmp",
        "outputId": "dafd066d-7b15-46f3-c0b3-8bc7f34914d9"
      },
      "source": [
        "print(len(testPreds))\n",
        "print(testPreds)"
      ],
      "execution_count": 66,
      "outputs": [
        {
          "output_type": "stream",
          "text": [
            "79\n",
            "[14.005434   6.003577  11.004738  17.00613   17.00613   12.00497\n",
            " 14.005434  19.006594  19.006594   8.004042  14.005434  13.005202\n",
            "  8.004042   7.0038095  9.004273  13.005202  11.004738  16.005898\n",
            "  7.0038095 10.004506  15.005667  13.005202  14.005434  16.005898\n",
            "  7.0038095  7.0038095  8.004042  10.004506  12.00497   10.004506\n",
            " 12.00497   13.005202  10.004506   6.003577   9.004273  12.00497\n",
            "  7.0038095  8.004042  14.005434   9.004273   9.004273   7.0038095\n",
            " 12.00497    6.003577  13.005202   7.0038095  7.0038095 11.004738\n",
            " 13.005202  17.00613   12.00497   15.005667   9.004273  12.00497\n",
            " 15.005667  12.00497   15.005667  12.00497   15.005667  11.004738\n",
            " 12.00497    8.004042  16.005898   7.0038095 16.005898  11.004738\n",
            " 16.005898  13.005202   8.004042   8.004042  12.00497   18.006361\n",
            " 13.005202  16.005898  10.004506   7.0038095 10.004506   7.0038095\n",
            " 11.004738 ]\n"
          ],
          "name": "stdout"
        }
      ]
    },
    {
      "cell_type": "code",
      "metadata": {
        "colab": {
          "base_uri": "https://localhost:8080/",
          "height": 361
        },
        "id": "sVxdqo85dsnF",
        "outputId": "f7aa05f6-3d31-4686-9a52-86cc7ac5f9d8"
      },
      "source": [
        "# prediciton plot --> how well is your model predicting across the actual labels\n",
        "\n",
        "def predPlot(labels, predictions):\n",
        "  plt.scatter(labels, predictions)\n",
        "  plt.ylabel('Predictions')\n",
        "  plt.xlabel('True Value or Labels')\n",
        "  plt.axis('equal')\n",
        "  plt.axis('square')\n",
        "  plt.xlim([0, plt.xlim()[1]])\n",
        "  plt.ylim([0, plt.ylim()[1]])\n",
        "  plt.show()\n",
        "\n",
        "predPlot(testLabels, testPreds)"
      ],
      "execution_count": 67,
      "outputs": [
        {
          "output_type": "display_data",
          "data": {
            "image/png": "[encoded data removed]",
            "text/plain": [
              "<Figure size 576x396 with 1 Axes>"
            ]
          },
          "metadata": {
            "tags": []
          }
        }
      ]
    },
    {
      "cell_type": "code",
      "metadata": {
        "colab": {
          "base_uri": "https://localhost:8080/",
          "height": 361
        },
        "id": "4ykP6_e9dwi8",
        "outputId": "7f3f1f8f-0c4a-4c4f-8668-798083183d38"
      },
      "source": [
        "#error plot --> gaussian distribution \n",
        "\n",
        "def errorPlot(preds, labels, counts):\n",
        "  errors = preds - labels\n",
        "  plt.hist(errors, counts)\n",
        "  plt.xlabel('Error')\n",
        "  plt.ylabel('Counts')\n",
        "  plt.show()\n",
        "\n",
        "errorPlot(testPreds, testLabels, numEpochs)"
      ],
      "execution_count": 68,
      "outputs": [
        {
          "output_type": "display_data",
          "data": {
            "image/png": "[encoded data removed]",
            "text/plain": [
              "<Figure size 576x396 with 1 Axes>"
            ]
          },
          "metadata": {
            "tags": []
          }
        }
      ]
    },
    {
      "cell_type": "code",
      "metadata": {
        "id": "famn4UOAdy38"
      },
      "source": [
        ""
      ],
      "execution_count": 68,
      "outputs": []
    }
  ]
}